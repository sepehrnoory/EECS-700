{
  "cells": [
    {
      "cell_type": "markdown",
      "metadata": {
        "id": "view-in-github",
        "colab_type": "text"
      },
      "source": [
        "<a href=\"https://colab.research.google.com/github/sepehrnoory/EECS-700/blob/main/assignments/EmbeddedML_Assignment1_NN.ipynb\" target=\"_parent\"><img src=\"https://colab.research.google.com/assets/colab-badge.svg\" alt=\"Open In Colab\"/></a>"
      ]
    },
    {
      "cell_type": "markdown",
      "source": [
        "\n",
        "\n",
        "---\n",
        "\n",
        "\n",
        "\n",
        "Before starting, you must click on the \"Copy To Drive\" option in the top bar. Go to File --> Save a Copy to Drive. Name it *'LastName_FirstName_Assignment1.ipynb'*. <ins>This is the master notebook so you will not be able to save your changes without copying it !</ins> Once you click on that, make sure you are working on that version of the notebook so that your work is saved.\n",
        "\n",
        "\n",
        "\n",
        "---\n",
        "\n"
      ],
      "metadata": {
        "id": "-qtxDiK5ne77"
      }
    },
    {
      "cell_type": "markdown",
      "metadata": {
        "id": "aDT3sB6DrTvj"
      },
      "source": [
        "# 1. Regression using Single-Layer Neural Network\n",
        "\n",
        "In the first section of the assignment you will design your own regression model for function **Y = wX + b** using TensorFlow.\n",
        "We start by setting up the problem for you."
      ]
    },
    {
      "cell_type": "code",
      "execution_count": null,
      "metadata": {
        "id": "eJEpdsvsGaqD"
      },
      "outputs": [],
      "source": [
        "# DO NOT CHANGE THIS CELL\n",
        "\n",
        "# We first import TensorFlow and other libraries\n",
        "import tensorflow as tf\n",
        "import numpy as np\n",
        "from tensorflow.keras import Sequential\n",
        "from tensorflow.keras.layers import Dense\n",
        "import matplotlib.pyplot as plt\n",
        "\n",
        "# We define a callback function that populates 'predictions' with predicted ys for every epoch\n",
        "predictions = []\n",
        "class myCallback(tf.keras.callbacks.Callback):\n",
        "  def on_epoch_end(self, epoch, logs={}):\n",
        "    predictions.append(model.predict(xs))\n",
        "callbacks = myCallback()\n",
        "\n",
        "# We then define the xs (inputs) and ys (outputs)\n",
        "xs = np.array([-1.0, 0.0, 1.0, 2.0, 3.0, 4.0], dtype=float)\n",
        "ys = np.array([-3.0, -1.0, 1.0, 3.0, 5.0, 7.0], dtype=float)"
      ]
    },
    {
      "cell_type": "markdown",
      "source": [
        "Let's understand the data. Plot and visualize the data (xs and ys).\n",
        "\n",
        "***Hint***: Use plt.scatter()"
      ],
      "metadata": {
        "id": "SbHmy-r3_Dw0"
      }
    },
    {
      "cell_type": "code",
      "source": [
        "# TODO: Visualize xs and ys\n"
      ],
      "metadata": {
        "id": "k7ZQXNE8_P6v"
      },
      "execution_count": null,
      "outputs": []
    },
    {
      "cell_type": "markdown",
      "source": [
        "### Define Model"
      ],
      "metadata": {
        "id": "mOCE4STfwVai"
      }
    },
    {
      "cell_type": "markdown",
      "metadata": {
        "id": "j5rXyNc2rTvq"
      },
      "source": [
        "In the below cell, define your regression model - a single layer neural network with a dense layer - with appropriate shape, loss function and optimizer. You're free to choose the number of neuron units in the layer. Then compile the model."
      ]
    },
    {
      "cell_type": "code",
      "execution_count": null,
      "metadata": {
        "id": "pzYDzdABrTvq"
      },
      "outputs": [],
      "source": [
        "# TODO - Define Model and Compile it\n",
        "\n"
      ]
    },
    {
      "cell_type": "markdown",
      "source": [
        "### Train Model"
      ],
      "metadata": {
        "id": "JeS0r4t4wcSc"
      }
    },
    {
      "cell_type": "markdown",
      "metadata": {
        "id": "L4LwWGDhrTvr"
      },
      "source": [
        "We then fit the trained model to the training data."
      ]
    },
    {
      "cell_type": "code",
      "execution_count": null,
      "metadata": {
        "id": "FR2pXivBrTvs"
      },
      "outputs": [],
      "source": [
        "# DO NOT CHANGE THIS CELL\n",
        "\n",
        "# We then fit the model\n",
        "epochs = 300\n",
        "print(\"Training!\")\n",
        "model.fit(xs, ys, epochs=epochs, callbacks=[callbacks], verbose=2)"
      ]
    },
    {
      "cell_type": "markdown",
      "source": [
        "### Plot Loss graph"
      ],
      "metadata": {
        "id": "K5LXMdjRwn1g"
      }
    },
    {
      "cell_type": "markdown",
      "source": [
        "Use the ***predicted ys*** and the ***ground truth ys*** to manually calculate the MSE (mean-squared error) loss for each epoch. Then, plot the **loss vs epochs** graph, which should represent decreasing loss.\n",
        "\n",
        "***Hint1:*** The shape of 'predictions' array is **(epochs, 6)** - this represents a 2D array of the 6 predicted Y values at every epoch. Each row represents the 6 predicted Y values.\n",
        "\n",
        "***Hint2:*** Store the 'loss' as a 1D vector of size **(epochs)**. Each value will represent the MSE (of all 6 Ys) at each epoch."
      ],
      "metadata": {
        "id": "9hengxScwQRq"
      }
    },
    {
      "cell_type": "code",
      "source": [
        "predictions = np.asarray(predictions)\n",
        "predictions = predictions.reshape(epochs, 6)\n",
        "print(\"Predictions array shape:\" ,predictions.shape)\n",
        "print(\"Ys Ground Truth shape: \", ys.shape)\n",
        "\n",
        "# TODO - Calculate MSE Loss and Plot Loss graph\n",
        "\n",
        "\n"
      ],
      "metadata": {
        "id": "m7Qwhn99q-C6"
      },
      "execution_count": null,
      "outputs": []
    },
    {
      "cell_type": "markdown",
      "metadata": {
        "id": "Z3yhScVorTvs"
      },
      "source": [
        "Below is a plot of the resulting y predictions at EPOCH_NUMBERS = 1, 25, 50, 150, 300. If you'd like to see other predictions at other epochs, update the EPOCH_NUMBERS variable and re-run the cell!"
      ]
    },
    {
      "cell_type": "code",
      "execution_count": null,
      "metadata": {
        "id": "9NSFY8oQbNlD"
      },
      "outputs": [],
      "source": [
        "EPOCH_NUMBERS=[1,25,50,150,300] # Update me to see other Epochs\n",
        "plt.plot(xs,ys,label = \"Ys\")\n",
        "for EPOCH in EPOCH_NUMBERS:\n",
        "    plt.plot(xs,predictions[EPOCH-1],label = \"Epoch = \" + str(EPOCH))\n",
        "plt.legend()\n",
        "plt.show()"
      ]
    },
    {
      "cell_type": "markdown",
      "source": [
        "# 2. Multiclass Classification using Dense Neural Network\n",
        "\n",
        "In the second section of the assignment, you'll create a multi-layer Neural network with Dense layers for a Multi-class Classification problem.\n",
        "\n",
        "We start by setting up the problem for you."
      ],
      "metadata": {
        "id": "4RwCEyGX3pD_"
      }
    },
    {
      "cell_type": "code",
      "source": [
        "import tensorflow as tf\n",
        "import numpy as np\n",
        "import matplotlib.pyplot as plt"
      ],
      "metadata": {
        "id": "CVtyj-UdsNHh"
      },
      "execution_count": null,
      "outputs": []
    },
    {
      "cell_type": "markdown",
      "source": [
        "### Load Dataset"
      ],
      "metadata": {
        "id": "KjgLfzEW3guP"
      }
    },
    {
      "cell_type": "markdown",
      "source": [
        "You will be using the Fashion MNIST Dataset. - https://github.com/zalandoresearch/fashion-mnist. In the below cell, use the TensorFlow Keras API to load the datatset and split it into training and test sets."
      ],
      "metadata": {
        "id": "hnD1ll9I4CV0"
      }
    },
    {
      "cell_type": "code",
      "source": [
        "# TODO - Load in fashion MNIST\n",
        "\n"
      ],
      "metadata": {
        "id": "7plbAHHI4FNL"
      },
      "execution_count": null,
      "outputs": []
    },
    {
      "cell_type": "markdown",
      "source": [
        "### Plot Sample Training Examples\n",
        "\n",
        "\n",
        "\n",
        "---\n",
        "\n",
        "\n",
        "Question 1: Plot the first 3 training images along with the training labels.\n",
        "\n",
        "\n",
        "\n",
        "---\n",
        "\n"
      ],
      "metadata": {
        "id": "RDVd_M8o-pOJ"
      }
    },
    {
      "cell_type": "code",
      "source": [
        "# TODO - plot 1st training example\n",
        "\n"
      ],
      "metadata": {
        "id": "mYLHpFxesl0v"
      },
      "execution_count": null,
      "outputs": []
    },
    {
      "cell_type": "code",
      "source": [
        "# TODO - plot 2nd training example\n",
        "\n"
      ],
      "metadata": {
        "id": "SHwuTsdf6BvZ"
      },
      "execution_count": null,
      "outputs": []
    },
    {
      "cell_type": "code",
      "source": [
        "# TODO - plot 3rd training example\n",
        "\n"
      ],
      "metadata": {
        "id": "tbmgs0Mc6B47"
      },
      "execution_count": null,
      "outputs": []
    },
    {
      "cell_type": "markdown",
      "source": [
        "### Define Model"
      ],
      "metadata": {
        "id": "-EWEIMWx3mO3"
      }
    },
    {
      "cell_type": "markdown",
      "source": [
        "We define the below model - a two-layer DNN (one hidden layer, output layer) - to take in the Fashion MNIST 28 x 28 grayscale image as input. This is in addition to the input layer. Can you detetrmine the number of neurons in the output layer?"
      ],
      "metadata": {
        "id": "M1LBogzb3ssj"
      }
    },
    {
      "cell_type": "code",
      "source": [
        "# Define the base model\n",
        "\n",
        "No_Output_Neurons = # < YOUR ANSWER HERE > #\n",
        "model = tf.keras.models.Sequential([tf.keras.layers.Flatten(input_shape=(28,28)),\n",
        "                                    tf.keras.layers.Dense(512, activation=tf.nn.relu),\n",
        "                                    tf.keras.layers.Dense(No_Output_Neurons, activation=tf.nn.softmax)])"
      ],
      "metadata": {
        "id": "8Lzj5hJ54HKX"
      },
      "execution_count": null,
      "outputs": []
    },
    {
      "cell_type": "markdown",
      "source": [
        "In the below cell, compile the above defined model with the appropriate Optimizer and Loss Function. Use accuracy as your metric.\n",
        "\n",
        "Refer to the TensorFlow Documentation!"
      ],
      "metadata": {
        "id": "LAidejWG6Zet"
      }
    },
    {
      "cell_type": "code",
      "source": [
        "# TODO - compile the model\n",
        "\n"
      ],
      "metadata": {
        "id": "6AqqFZpA6U48"
      },
      "execution_count": null,
      "outputs": []
    },
    {
      "cell_type": "markdown",
      "source": [
        "### Train Model"
      ],
      "metadata": {
        "id": "FRIzqNq761XD"
      }
    },
    {
      "cell_type": "markdown",
      "source": [
        "Next, we fit the trained model to the training set. But before we do that, we must **preprocess our training and test images**!!\n",
        "\n",
        "Neural Networks learn the best when the data is scaled / normalized to fall in a constant range. Practitioners often use the range [0,1]. How might you do this to the training and test images used here?\n",
        "\n",
        "*A hint: these images are saved in the standard [RGB](https://www.rapidtables.com/web/color/RGB_Color.html) format*"
      ],
      "metadata": {
        "id": "78XVSI7L65Qw"
      }
    },
    {
      "cell_type": "code",
      "source": [
        "# TODO - Preprocess Training and Test Images\n",
        "\n"
      ],
      "metadata": {
        "id": "_bFSJBYd4OTe"
      },
      "execution_count": null,
      "outputs": []
    },
    {
      "cell_type": "markdown",
      "source": [
        "Using these improved images, we train the model! Since this is a very simple dataset we only train for 5 epochs.\n"
      ],
      "metadata": {
        "id": "-ffWl32Y4Qt2"
      }
    },
    {
      "cell_type": "markdown",
      "source": [
        "\n",
        "---\n",
        "\n",
        "\n",
        "**Question 2:** Train the model for epochs = 5, 15, 20 and report the accuracies.\n",
        "\n",
        "**Answer:**\n",
        "\n",
        "\n",
        "1.   epochs = 5, training accuracy =\n",
        "2.   epochs = 15, training accuracy =\n",
        "3.   epochs = 20, training accuracy =\n",
        "\n",
        "\n",
        "\n",
        "\n",
        "\n",
        "---"
      ],
      "metadata": {
        "id": "FR0odx7Y7QBx"
      }
    },
    {
      "cell_type": "code",
      "source": [
        "# fit the model to the training data\n",
        "\n",
        "print(\"Training!\")\n",
        "model.fit(training_images, training_labels, epochs=5)"
      ],
      "metadata": {
        "id": "gaRnCjlV4TAL"
      },
      "execution_count": null,
      "outputs": []
    },
    {
      "cell_type": "markdown",
      "source": [
        "Once it's done training -- you should see an accuracy value at the end of the final epoch. It might look something like ~ 0.86 - 0.89 for epochs = 5. This tells you that your neural network is about 86 - 89% accurate in classifying the training data. i.e., it figured out a pattern match between the image and the labels that worked 86% - 89% of the time."
      ],
      "metadata": {
        "id": "hP8nXz3S4W9W"
      }
    },
    {
      "cell_type": "markdown",
      "source": [
        "### Evaluate Model"
      ],
      "metadata": {
        "id": "q0DBHGxq9Smh"
      }
    },
    {
      "cell_type": "markdown",
      "source": [
        "How well would the model work with unseen data? That's why we have the test images. We can call ```model.evaluate```. It evaluates our model on the test images and compares the predictions to the actual test labels.\n",
        "\n",
        "Refer TensorFlow Documentation to learn how to use the ```model.evaluate``` API."
      ],
      "metadata": {
        "id": "qejE87dV9UTU"
      }
    },
    {
      "cell_type": "code",
      "source": [
        "# TODO - test the model on the test data\n",
        "\n",
        "print(\"Testing!\")\n"
      ],
      "metadata": {
        "id": "9CFJ1jT39QiO"
      },
      "execution_count": null,
      "outputs": []
    },
    {
      "cell_type": "markdown",
      "source": [
        "The API returns a loss value followed by the test accuracy. You might get an accuracy of around 87 - 89% accuracy. Not Bad!"
      ],
      "metadata": {
        "id": "ixqx29Wl9zKU"
      }
    },
    {
      "cell_type": "markdown",
      "source": [
        "\n",
        "\n",
        "But what did it actually learn? If we inference on the model using ```model.predict``` we get out the following list of values. **What does it represent?**\n",
        "\n",
        "*A hint: trying running ```print(test_labels[0])```*"
      ],
      "metadata": {
        "id": "CWrxZRjc4abM"
      }
    },
    {
      "cell_type": "code",
      "source": [
        "classifications = model.predict(test_images)\n",
        "print(\"predictions:\", classifications[0])    # probability distribution for predictions of first test image.\n",
        "print(\"final prediction:\", np.argmax(classifications[0]))      # final prediction - max probability\n",
        "print(\"gound truth:\", test_labels[0])"
      ],
      "metadata": {
        "id": "ifknu06l4j-0"
      },
      "execution_count": null,
      "outputs": []
    },
    {
      "cell_type": "markdown",
      "source": [
        "You can also visualize the results!"
      ],
      "metadata": {
        "id": "sFg_dfni4nME"
      }
    },
    {
      "cell_type": "code",
      "source": [
        "plt.imshow(test_images[0], cmap='gray')"
      ],
      "metadata": {
        "id": "3Bgrb1Jk4pUg",
        "colab": {
          "base_uri": "https://localhost:8080/",
          "height": 282
        },
        "outputId": "aa2b4263-3e6b-415a-9629-d569d6fcef40"
      },
      "execution_count": null,
      "outputs": [
        {
          "output_type": "execute_result",
          "data": {
            "text/plain": [
              "<matplotlib.image.AxesImage at 0x7f6c59c6fad0>"
            ]
          },
          "metadata": {},
          "execution_count": 37
        },
        {
          "output_type": "display_data",
          "data": {
            "text/plain": [
              "<Figure size 432x288 with 1 Axes>"
            ],
            "image/png": "[encoded data removed]"
          },
          "metadata": {
            "needs_background": "light"
          }
        }
      ]
    },
    {
      "cell_type": "markdown",
      "source": [
        "### Case 1 - Double number of Neurons in Hidden Dense Layer"
      ],
      "metadata": {
        "id": "eARYEh_7_vrX"
      }
    },
    {
      "cell_type": "markdown",
      "source": [
        "In the below cell, define a model with double the number of neurons in the dense hidden layer. Then, compile the model, train the model on the training set, and evaluate the model on the test set.\n",
        "\n"
      ],
      "metadata": {
        "id": "zdzO3k3b4rmr"
      }
    },
    {
      "cell_type": "code",
      "source": [
        "# TODO - Define model, compile, train, evaluate\n",
        "\n"
      ],
      "metadata": {
        "id": "3-akz3cL4skQ"
      },
      "execution_count": null,
      "outputs": []
    },
    {
      "cell_type": "markdown",
      "source": [
        "\n",
        "\n",
        "---\n",
        "\n",
        "\n",
        "\n",
        "**Question 3:** Do you observe a difference in loss, accuracy, training time etc and if so list them down. Why do you think that's the case?\n",
        "\n",
        "**Answer**:\n",
        "\n",
        "\n",
        "\n",
        "---\n",
        "\n"
      ],
      "metadata": {
        "id": "dDI6sAz2AY9S"
      }
    },
    {
      "cell_type": "markdown",
      "source": [
        "### Case 2 - Include Additional Dense Layer"
      ],
      "metadata": {
        "id": "-tMeBgE6BI6T"
      }
    },
    {
      "cell_type": "markdown",
      "source": [
        "Consider the effects of additional layers in the network instead of just adding more neurons to the same layer.\n",
        "\n",
        "In the below cell, define a model to add an additional layer with 128 neurons between the two existing Dense layers."
      ],
      "metadata": {
        "id": "_mR7uWyf44pL"
      }
    },
    {
      "cell_type": "code",
      "source": [
        "# TODO - Define Similar Model as before with additional Layer\n",
        "\n"
      ],
      "metadata": {
        "id": "J3A5FgZU44St"
      },
      "execution_count": null,
      "outputs": []
    },
    {
      "cell_type": "markdown",
      "source": [
        "We then compile the model, fit the model to training data, and evaluate our model on the test data."
      ],
      "metadata": {
        "id": "k9hpgXvn5DKR"
      }
    },
    {
      "cell_type": "code",
      "source": [
        "# TODO - compile fit and evaluate the model again\n",
        "\n"
      ],
      "metadata": {
        "id": "QX6vFpKA5FUF"
      },
      "execution_count": null,
      "outputs": []
    },
    {
      "cell_type": "markdown",
      "source": [
        "\n",
        "---\n",
        "\n",
        "\n",
        "\n",
        "**Question 4:** What happens to the error? How does this compare to the original model and the model with double the number of neurons?\n",
        "\n",
        "**Answer**:\n",
        "\n",
        "\n",
        "\n",
        "---"
      ],
      "metadata": {
        "id": "hlShUY7vCnF_"
      }
    },
    {
      "cell_type": "markdown",
      "source": [
        "# Callbacks"
      ],
      "metadata": {
        "id": "IDXOAb2ZDCV1"
      }
    },
    {
      "cell_type": "markdown",
      "source": [
        "Sometimes if we set the model training for too many epochs we may find that training stops improving. In this case, it would be ideal to quit training early. TensorFlow has a function called ```Callbacks``` which can check the results from each epoch.\n",
        "\n",
        "Below, we stop training the model when the accuracy is above 86%."
      ],
      "metadata": {
        "id": "TPLkTNze5OXh"
      }
    },
    {
      "cell_type": "code",
      "source": [
        "# define and instantiate your custom Callback\n",
        "class myCallback(tf.keras.callbacks.Callback):\n",
        "  def on_epoch_end(self, epoch, logs={}):\n",
        "    if( logs.get('accuracy') > 0.86):\n",
        "      self.model.stop_training = True\n",
        "\n",
        "\n",
        "callbacks = myCallback()\n"
      ],
      "metadata": {
        "id": "4TZ38rz05Q7z"
      },
      "execution_count": null,
      "outputs": []
    },
    {
      "cell_type": "markdown",
      "source": [
        "In the below cell, re-compile the model, re-fit the model to the training data and re-evaluate the model on the test data! Observe that the training process is much shorter!\n",
        "\n",
        "**Note:** When you train the model, refer to the myCallback() class object.\n",
        "\n",
        "\n",
        "***Hint:*** Use the callbacks flag in the `model.fit()` API"
      ],
      "metadata": {
        "id": "k8GN5QIJHJMc"
      }
    },
    {
      "cell_type": "code",
      "source": [
        "# TODO - re-compile, re-fit and re-evaluate\n",
        "\n"
      ],
      "metadata": {
        "id": "OX4k-lboHFOH"
      },
      "execution_count": null,
      "outputs": []
    }
  ],
  "metadata": {
    "colab": {
      "provenance": [],
      "include_colab_link": true
    },
    "kernelspec": {
      "display_name": "Python 3",
      "language": "python",
      "name": "python3"
    },
    "language_info": {
      "codemirror_mode": {
        "name": "ipython",
        "version": 3
      },
      "file_extension": ".py",
      "mimetype": "text/x-python",
      "name": "python",
      "nbconvert_exporter": "python",
      "pygments_lexer": "ipython3",
      "version": "3.6.9"
    }
  },
  "nbformat": 4,
  "nbformat_minor": 0
}