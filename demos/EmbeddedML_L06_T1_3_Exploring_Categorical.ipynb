{
  "cells": [
    {
      "cell_type": "markdown",
      "metadata": {
        "id": "view-in-github",
        "colab_type": "text"
      },
      "source": [
        "<a href=\"https://colab.research.google.com/github/sepehrnoory/EECS-700/blob/main/demos/EmbeddedML_L06_T1_3_Exploring_Categorical.ipynb\" target=\"_parent\"><img src=\"https://colab.research.google.com/assets/colab-badge.svg\" alt=\"Open In Colab\"/></a>"
      ]
    },
    {
      "cell_type": "markdown",
      "source": [
        "---\n",
        "\n",
        "\n",
        "Before starting, you must click on the \"Copy To Drive\" option in the top bar. Go to File --> Save a Copy to Drive. Name it *'LastName_FirstName_T1.3.ipynb'*. <ins>This is the master notebook so you will not be able to save your changes without copying it !</ins> Once you click on that, make sure you are working on that version of the notebook so that your work is saved.\n",
        "\n",
        "\n",
        "\n",
        "---"
      ],
      "metadata": {
        "id": "t3XrUYVEo4oG"
      }
    },
    {
      "cell_type": "markdown",
      "source": [
        "### In the previous two tutorials we explored Regression (in particular Linear Regression). In this Colab Notebook, we will dive into Classification - dealing with categorical data!"
      ],
      "metadata": {
        "id": "BGeCAWsqTkrW"
      }
    },
    {
      "cell_type": "markdown",
      "source": [
        "We import the following libraries -\n",
        "\n",
        "1.   [tensorflow](https://www.tensorflow.org/) - open source library to develop and train ML models\n",
        "2.   [matplotlib](https://matplotlib.org/) - visualization of data in Python\n",
        "3.   [numpy](https://numpy.org/) - scientific computing in Python"
      ],
      "metadata": {
        "id": "dYxyxZBUbQSt"
      }
    },
    {
      "cell_type": "code",
      "source": [
        "import tensorflow as tf\n",
        "import matplotlib.pyplot as plt\n",
        "import numpy as np"
      ],
      "metadata": {
        "id": "bhvJr0Fhbj-X"
      },
      "execution_count": null,
      "outputs": []
    },
    {
      "cell_type": "markdown",
      "source": [
        "# MNIST Dataset\n",
        "\n",
        "We will work with an existing dataset in this Colab! The data that we will be working with is from the [MNIST Dataset](https://www.tensorflow.org/datasets/catalog/mnist). The dataset contains 28x28 grayscale images of 10 handwritten digits (0 - 9). An ML Model trained on this dataset for the task of Image Classification should classify/categorize a new data sample into one of the 10 classes.\n",
        "\n",
        "\n",
        "\n"
      ],
      "metadata": {
        "id": "xv-3G7pbWQmQ"
      }
    },
    {
      "cell_type": "markdown",
      "source": [
        "Let's import this dataset and visualize a few samples! Keras provides built-in toy datasets such as the MNIST Dataset. Read about the other bulit-in datasets [here.](https://keras.io/api/datasets/)\n",
        "\n",
        "The `tf.keras.datasets.mnist` API instantiates the MNIST Dataset."
      ],
      "metadata": {
        "id": "rEaXWIRmYarm"
      }
    },
    {
      "cell_type": "code",
      "source": [
        "data = tf.keras.datasets.mnist"
      ],
      "metadata": {
        "id": "-JWsV9mJb43p"
      },
      "execution_count": null,
      "outputs": []
    },
    {
      "cell_type": "markdown",
      "source": [
        "In the below cell, the `data.load_data()` API is used to load the MNIST Dataset and unpack it to the training and testing data (X - input image, Y - output class label). Read more about this API [here.](https://www.tensorflow.org/api_docs/python/tf/keras/datasets/mnist/load_data)"
      ],
      "metadata": {
        "id": "pXQgaaGJe_pc"
      }
    },
    {
      "cell_type": "code",
      "source": [
        "(training_images, training_labels), (val_images, val_labels) = data.load_data()"
      ],
      "metadata": {
        "id": "nl6E6r-VfCDo"
      },
      "execution_count": null,
      "outputs": []
    },
    {
      "cell_type": "markdown",
      "source": [
        "---\n",
        "\n",
        "\n",
        "**Question 1**: Why is it necessary to split the dataset into training and test sets?\n",
        "\n",
        "**Answer:**\n",
        "\n",
        "---"
      ],
      "metadata": {
        "id": "WisM_AyBwbPr"
      }
    },
    {
      "cell_type": "markdown",
      "source": [
        "### We can now explore the loaded dataset and also visualize a few data samples (images and corresponding class labels)!"
      ],
      "metadata": {
        "id": "Bsw8SfgqgAUy"
      }
    },
    {
      "cell_type": "markdown",
      "source": [
        "We see below that there are 60000 training images of size 28 x 28, 60000 corresponding class labels, 10000 test images of size 28 x 28, and 10000 corresponding class labels."
      ],
      "metadata": {
        "id": "UdSn0dPShYyW"
      }
    },
    {
      "cell_type": "code",
      "source": [
        "print(\"Shape of training images:\", training_images.shape)\n",
        "print(\"Shape of training labels:\", training_labels.shape)\n",
        "print(\"Shape of testing images :\", val_images.shape)\n",
        "print(\"Shape of testing labels :\", val_labels.shape)"
      ],
      "metadata": {
        "id": "mJ_XSZu2gbYJ"
      },
      "execution_count": null,
      "outputs": []
    },
    {
      "cell_type": "markdown",
      "source": [
        "Let's visualize the first training sample! If we print the image, we get a matrix!"
      ],
      "metadata": {
        "id": "t0mC6aK4pV1c"
      }
    },
    {
      "cell_type": "code",
      "source": [
        "# Images are stored as matrices\n",
        "print(training_images[0])\n",
        "print()\n",
        "print(\"Class:\", training_labels[0])"
      ],
      "metadata": {
        "id": "Objc2NFRh47G"
      },
      "execution_count": null,
      "outputs": []
    },
    {
      "cell_type": "markdown",
      "source": [
        "Instead, we should plot the image using the matplotlib APIs! We use the `imshow()` API."
      ],
      "metadata": {
        "id": "sLekC_d3yfqx"
      }
    },
    {
      "cell_type": "code",
      "source": [
        "# plot image\n",
        "plt.imshow(training_images[0], cmap='gray')\n",
        "print(\"Class:\", training_labels[0])\n",
        "print()"
      ],
      "metadata": {
        "id": "akUBJVSmp7jl"
      },
      "execution_count": null,
      "outputs": []
    },
    {
      "cell_type": "markdown",
      "source": [
        "Take some time to experiment with different training samples! In the below cell, plot the 2nd training sample along with its label!"
      ],
      "metadata": {
        "id": "0TP-msxkqhqg"
      }
    },
    {
      "cell_type": "code",
      "source": [
        "# < YOUR CODE HERE >"
      ],
      "metadata": {
        "id": "Wsf1AkLwyzBy"
      },
      "execution_count": null,
      "outputs": []
    },
    {
      "cell_type": "markdown",
      "source": [
        "### Normalizing Images\n",
        "\n",
        "Before we train our model on the images, we must **preprocess our training and test images**!!\n",
        "\n",
        "Neural Networks learn the best when the data is scaled/normalized to fall in a constant range. Practitioners often use the range [0,1]. How might you do this to the training and test images used here?\n",
        "\n",
        "These images are saved in the standard [RGB](https://www.rapidtables.com/web/color/RGB_Color.html) format"
      ],
      "metadata": {
        "id": "5Fbir25OfNUv"
      }
    },
    {
      "cell_type": "code",
      "source": [
        "training_images  = training_images / 255.0\n",
        "val_images = val_images / 255.0"
      ],
      "metadata": {
        "id": "0P_77-ODqwCg"
      },
      "execution_count": null,
      "outputs": []
    },
    {
      "cell_type": "markdown",
      "source": [
        "Let's print the normalized image matrix! We see that the pixel values are between 0 and 1."
      ],
      "metadata": {
        "id": "ioyGaXHnNTB-"
      }
    },
    {
      "cell_type": "code",
      "source": [
        "print(training_images[0])"
      ],
      "metadata": {
        "id": "ZZdi196ANSUB"
      },
      "execution_count": null,
      "outputs": []
    },
    {
      "cell_type": "markdown",
      "metadata": {
        "id": "jL2nKxjS4S_r"
      },
      "source": [
        "# Simple neural network for MNIST\n",
        "\n",
        "Now we are ready to define and train our ML Model.\n",
        "\n",
        "How do we feed an image into the neural network as input? The input to the Neural Network is the flattened version of the Image Pixels, fed as a 1D tensor (as opposed to 2D tensor). Therefore, a 28 x 28 image will be fed as a 784-length 1D tensor. The `tf.keras.layers.Flatten()` API handles this."
      ]
    },
    {
      "cell_type": "markdown",
      "source": [
        "![T1_3_Final.png](data:image/png;base64,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)"
      ],
      "metadata": {
        "id": "AxI02fuTxezZ"
      }
    },
    {
      "cell_type": "markdown",
      "source": [
        "---\n",
        "\n",
        "\n",
        "**Question 2**: How is an image fed as input to a Dense Layer of a Neural Network?\n",
        "\n",
        "**Answer:**\n",
        "\n",
        "---"
      ],
      "metadata": {
        "id": "SoRIaGlW0Kmf"
      }
    },
    {
      "cell_type": "markdown",
      "source": [
        "---\n",
        "**Question 3**: How many trainable parameters does the model has?\n",
        "\n",
        "**Answer**:\n",
        "\n",
        "---"
      ],
      "metadata": {
        "id": "Hxth2ugBRxTF"
      }
    },
    {
      "cell_type": "markdown",
      "source": [
        "### Define Model\n",
        "\n",
        "We define the model to have 2 dense layers (excluding input layer), one with 20 neurons, and one with 10. The 10-neuron layer is our final layer because we have 10 classes that we want to classify to.\n",
        "\n",
        "Recall **Activation Functions!** They are used to manipulate the output of a node (neuron). The first hidden layer has a ***ReLU Activation Function*** - the most popular Activation Function in Deep Learning. It alters the linear activation function by converting all negative values to 0.\n",
        "\n",
        "The output layer has a ***Softmax Activation Function*** - used for multiclass classification tasks. It outputs a probability distribution across the multiple (here 10) classes. The class that has maximum probability is the resulting class label for that input data sample. These activation functions can be introduced by setting the activation flag in the dense layer API.\n",
        "\n",
        "Finally, we stack all these layers using the `tf.keras.models.Sequential()` API.\n"
      ],
      "metadata": {
        "id": "miou00gh2O1O"
      }
    },
    {
      "cell_type": "code",
      "execution_count": null,
      "metadata": {
        "id": "zrQ-DeQtybXZ"
      },
      "outputs": [],
      "source": [
        "model = tf.keras.models.Sequential([tf.keras.layers.Flatten(input_shape=(28,28)),\n",
        "                                    tf.keras.layers.Dense(20, activation=tf.nn.relu),\n",
        "                                    tf.keras.layers.Dense(10, activation=tf.nn.softmax)])"
      ]
    },
    {
      "cell_type": "markdown",
      "source": [
        "Using `model.compile()` API we define the optimizer, loss function and metrics. For multiclass classification tasks, we move on from MSE Loss to **Crossentropy Loss**. Cross-entropy loss, or log loss, measures the performance of a classification model whose output is a probability value between 0 and 1. Cross-entropy loss increases as the predicted probability diverges from the actual label. Cross-entropy builds upon the idea of information theory entropy and measures the difference between two probability distributions for a given random variable/set of events.\n",
        "\n",
        "We also define the metric to be **accuracy** which gives a measure of how many samples we classified correctly."
      ],
      "metadata": {
        "id": "yNxjIeTxA87f"
      }
    },
    {
      "cell_type": "code",
      "source": [
        "OPT = # < YOUR CODE HERE >\n",
        "LOSS = # < YOUR CODE HERE >\n",
        "\n",
        "model.compile(optimizer= OPT,\n",
        "              loss= LOSS,\n",
        "              metrics=['accuracy'])"
      ],
      "metadata": {
        "id": "XTVIqHOjBPq4"
      },
      "execution_count": null,
      "outputs": []
    },
    {
      "cell_type": "markdown",
      "source": [
        "***Hint:*** Use optimizer='adam', loss='sparse_categorical_crossentropy'"
      ],
      "metadata": {
        "id": "uLgOrm9t4U47"
      }
    },
    {
      "cell_type": "markdown",
      "source": [
        "### Train Model\n",
        "\n",
        "Finally, we train the model by fitting it to our training data for a fixed number of epochs. If you run the below cell, you will observe the *Training Loss* and *Accuracy* and *Validation Loss* and *Accuracy* for each epoch. Train this, and you should get an accuracy of about 96% - 98%."
      ],
      "metadata": {
        "id": "JbZwKHcH614E"
      }
    },
    {
      "cell_type": "code",
      "source": [
        "model.fit(training_images, training_labels, epochs=20, validation_data=(val_images, val_labels))"
      ],
      "metadata": {
        "id": "ry53t1K56zWq"
      },
      "execution_count": null,
      "outputs": []
    },
    {
      "cell_type": "markdown",
      "metadata": {
        "id": "JN92xbwK4i_S"
      },
      "source": [
        "## Examine the test data\n",
        "\n",
        "Using the `model.evaluate()` API, you can get metrics for a test set. In this case we only have a training set and a validation set, so we can try it out with the validation set. The accuracy will be slightly lower, at maybe 96%.  This is because the model hasn't previously seen this data and may not be fully generalized for all data. It's still a pretty good score.\n",
        "\n",
        "The model.evaluate API returns a loss value followed by the test accuracy.\n"
      ]
    },
    {
      "cell_type": "code",
      "execution_count": null,
      "metadata": {
        "id": "Rzit5Te-4lT6"
      },
      "outputs": [],
      "source": [
        "model.evaluate(val_images, val_labels)"
      ]
    },
    {
      "cell_type": "markdown",
      "source": [
        "\n",
        "In the above cell, we saw that the model.evaluate API gives us the accuracy of our model on the dataset. However, if we want to look at the predictions themselves, we use the `model.predict()` API. We can then manually compare these predictions against the ground truth labels.\n",
        "\n",
        "In the below cell we explore the first i.e., [0] image in the validation set. According to the ground truth validation set labels, it is the number 7. When we observe the predictions/classifications, we see that the 7th neuron has a 9.9e-1 (99%+) probability, which is the highest, hence rightly predicting 7!"
      ],
      "metadata": {
        "id": "EpnbvaHyKKjl"
      }
    },
    {
      "cell_type": "code",
      "source": [
        "classifications = model.predict(val_images)\n",
        "print(classifications[0])\n",
        "print(\"Predicted class: \", np.argmax(classifications[0]))    # returns index of maximum probability\n",
        "print(\"The actual class: \", val_labels[0])"
      ],
      "metadata": {
        "id": "IsMY3ly1KSyp"
      },
      "execution_count": null,
      "outputs": []
    },
    {
      "cell_type": "markdown",
      "source": [
        "Let's visualize our model's prediction!"
      ],
      "metadata": {
        "id": "RHoMDAEeMElV"
      }
    },
    {
      "cell_type": "code",
      "source": [
        "# plot image\n",
        "plt.imshow(val_images[0], cmap='gray')"
      ],
      "metadata": {
        "id": "hTPjCRTc5YWO"
      },
      "execution_count": null,
      "outputs": []
    },
    {
      "cell_type": "markdown",
      "source": [
        "---\n",
        "\n",
        "\n",
        "**Question 4**: In this example, what does the `model.predict()` API return?\n",
        "\n",
        "**Answer:**\n",
        "\n",
        "---"
      ],
      "metadata": {
        "id": "6q2lYYRr6_pP"
      }
    },
    {
      "cell_type": "markdown",
      "metadata": {
        "id": "6LkJGAiI5Cr3"
      },
      "source": [
        "# Modify NN to inspect learned parameter values\n",
        "\n",
        "The below code is identical to that in the above section, except that the layers here are named prior to adding to the sequential API. This allows us to inspect their learned parameters later."
      ]
    },
    {
      "cell_type": "code",
      "execution_count": null,
      "metadata": {
        "id": "eyyJ3RMYpFXR"
      },
      "outputs": [],
      "source": [
        "# load data\n",
        "data = tf.keras.datasets.mnist\n",
        "(training_images, training_labels), (val_images, val_labels) = data.load_data()\n",
        "\n",
        "# normalize images\n",
        "training_images  = # < YOUR CODE HERE >\n",
        "val_images = # < YOUR CODE HERE >\n",
        "\n",
        "# define layers\n",
        "layer_1 = tf.keras.layers.Dense(20, activation=tf.nn.relu)\n",
        "layer_2 = tf.keras.layers.Dense(10, activation=tf.nn.softmax)\n",
        "\n",
        "# define model\n",
        "model = tf.keras.models.Sequential([tf.keras.layers.Flatten(input_shape=(28,28)),\n",
        "                                    layer_1,\n",
        "                                    layer_2])\n",
        "model.compile(optimizer='adam',\n",
        "              loss='sparse_categorical_crossentropy',\n",
        "              metrics=['accuracy'])\n",
        "\n",
        "# train model\n",
        "print(\"Training Model!\")\n",
        "model.fit(training_images, training_labels, epochs=20)\n",
        "\n",
        "# evaluating model\n",
        "print()\n",
        "print(\"Evaluating Model\")\n",
        "model.evaluate(val_images, val_labels)"
      ]
    },
    {
      "cell_type": "markdown",
      "metadata": {
        "id": "7pNYFF935PlE"
      },
      "source": [
        "### Inspecting Layer 1 Parameters\n",
        "\n",
        "If we print ***layer_1.get_weights()***, we'll see a lot of data. Let's unpack it.  First, there are 2 arrays in the result, the first representing the weights and the second representing the biases."
      ]
    },
    {
      "cell_type": "code",
      "source": [
        "print(layer_1.get_weights())"
      ],
      "metadata": {
        "id": "YKbFpL4VO-J7"
      },
      "execution_count": null,
      "outputs": []
    },
    {
      "cell_type": "markdown",
      "source": [
        "Let's look at the first array - weights! Let's look at its size."
      ],
      "metadata": {
        "id": "6WeJU-FuQUKZ"
      }
    },
    {
      "cell_type": "code",
      "execution_count": null,
      "metadata": {
        "id": "QACivjNKxFWW"
      },
      "outputs": [],
      "source": [
        "# weights\n",
        "print(layer_1.get_weights()[0].size)"
      ]
    },
    {
      "cell_type": "markdown",
      "metadata": {
        "id": "lqpHrDyp5acs"
      },
      "source": [
        "**The above code should print 15680.** Why?\n",
        "\n",
        "Recall that there are 20 neurons in the first layer. Also, recall that the images are of size 28 x 28, therefore containing 784 pixels in total. If you multiply 784 x 20 you get 15680.\n",
        "\n",
        "So this layer has 20 neurons, and each neuron learns a W parameter for each pixel. So instead of Y = wX + b, we have:\n",
        "\n",
        "\n",
        "> a1_1 = w1X1 + w2X2 + w3X3 + .... + w784X784 + b\n",
        "\n",
        "\n",
        "\n",
        "in every neuron! Every pixel has a weight in every neuron. Those weights are multiplied by the pixel value, summed up, and given a bias.\n",
        "\n",
        "**Note**: a1_1 represents output of neuron 1 in layer 1."
      ]
    },
    {
      "cell_type": "markdown",
      "source": [
        "Let's look at the second array - biases! Let's look at its size."
      ],
      "metadata": {
        "id": "LoV78RXpRLbZ"
      }
    },
    {
      "cell_type": "code",
      "execution_count": null,
      "metadata": {
        "id": "TdXrHDEw6ACm"
      },
      "outputs": [],
      "source": [
        "# bias\n",
        "print(layer_1.get_weights()[1].size)"
      ]
    },
    {
      "cell_type": "markdown",
      "metadata": {
        "id": "EIOZ7rJy6Eg1"
      },
      "source": [
        "The above code should print 20 -- the ***get_weights()[1]*** contains the biases for each of the 20 neurons in this layer."
      ]
    },
    {
      "cell_type": "markdown",
      "metadata": {
        "id": "yyFKpzxN6T-N"
      },
      "source": [
        "### Inspecting Layer 2 Parameters\n",
        "\n",
        "Now let's look at layer 2. Printing the `layer.get_weights()` API will give us 2 arrays again, the first a list of weights for the 10 neurons, and the second a list of biases for the 10 neurons\n",
        "\n",
        "Let's first look at the weights:"
      ]
    },
    {
      "cell_type": "code",
      "execution_count": null,
      "metadata": {
        "id": "o9P_PVwXyKXJ"
      },
      "outputs": [],
      "source": [
        "# weights\n",
        "print(layer_2.get_weights()[0].size)"
      ]
    },
    {
      "cell_type": "markdown",
      "metadata": {
        "id": "daah2gq56fdb"
      },
      "source": [
        "This should return 200. Again, consider why?\n",
        "\n",
        "There are 10 neurons in this layer, but there are 20 neurons in the previous layer. So, each neuron in this layer will learn a weight for the incoming value from the previous layer. So, for example, the if the first neuron in this (second) layer is N2_1, and the neurons output from the previous layers are N1_1 - N1_20, then this neuron will have 20 weights (w1 - w20) and it will calculate its output to be:\n",
        "\n",
        "\n",
        "\n",
        "> w1N1_1 + w2N1_2 + w3N1_3 + ... + w20N1_20 + b\n",
        "\n",
        "\n",
        "So each of these weights will be learned as will the bias, for every neuron.\n",
        "\n",
        "**Note** : N1_1 refers to Layer 1 Neuron 1; N1_20 refers to Layer 1 Neuron 20.\n"
      ]
    },
    {
      "cell_type": "code",
      "execution_count": null,
      "metadata": {
        "id": "Reyw9wC65o8z"
      },
      "outputs": [],
      "source": [
        "# bias\n",
        "print(layer_2.get_weights()[1].size)"
      ]
    },
    {
      "cell_type": "markdown",
      "metadata": {
        "id": "DS89WZag7GlB"
      },
      "source": [
        "...and as expected there are 10 elements in this array, representing the 10 biases for the 10 neurons.\n",
        "\n",
        "Hopefully this helps you see how the element of a simple neuron containing Y = wX + b can be expanded greatly into a deep neural network, and that DNNs can learn the parameters that match the 784 pixels of an image to their output!"
      ]
    },
    {
      "cell_type": "markdown",
      "source": [
        "---\n",
        "\n",
        "\n",
        "**Question 5**: In layer 2, why are there 200 weights and 10 bias values?\n",
        "\n",
        "**Answer:**\n",
        "\n",
        "---"
      ],
      "metadata": {
        "id": "AMijm4m39Zqi"
      }
    },
    {
      "cell_type": "markdown",
      "source": [
        "Inspect the summary of the model."
      ],
      "metadata": {
        "id": "iXJt_bj0TsHp"
      }
    },
    {
      "cell_type": "code",
      "source": [
        "model.summary()"
      ],
      "metadata": {
        "id": "Sr-zP5w0TvqA"
      },
      "execution_count": null,
      "outputs": []
    }
  ],
  "metadata": {
    "accelerator": "GPU",
    "colab": {
      "provenance": [],
      "include_colab_link": true
    },
    "kernelspec": {
      "display_name": "Python 3",
      "language": "python",
      "name": "python3"
    },
    "language_info": {
      "codemirror_mode": {
        "name": "ipython",
        "version": 3
      },
      "file_extension": ".py",
      "mimetype": "text/x-python",
      "name": "python",
      "nbconvert_exporter": "python",
      "pygments_lexer": "ipython3",
      "version": "3.6.9"
    }
  },
  "nbformat": 4,
  "nbformat_minor": 0
}