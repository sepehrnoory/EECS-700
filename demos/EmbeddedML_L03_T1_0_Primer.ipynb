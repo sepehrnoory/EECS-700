{
  "nbformat": 4,
  "nbformat_minor": 0,
  "metadata": {
    "colab": {
      "provenance": [],
      "collapsed_sections": [
        "a8Wc1lNJMsnL",
        "6kHqJaCXM2BB",
        "Y5GfT8ClM6Ro",
        "Of7vrV-dNEvK",
        "elawLDLgNVXA",
        "Oj77OsViNbGS",
        "e5MicoagNjoJ",
        "xfjNGqW1NxC9",
        "7NLWu79PN27f",
        "N12tC-Hr0w0Q",
        "Axk3bWkW0w4n",
        "G_TgoQ8I1KI9",
        "UpjZvWD_GMKx",
        "5pwoEytgK8jH",
        "4w-GmAvjLn1I",
        "nZs4sey7LuP_",
        "Z4o_e1CKL6AB",
        "oye7edvDNIE8"
      ],
      "include_colab_link": true
    },
    "kernelspec": {
      "name": "python3",
      "display_name": "Python 3"
    },
    "language_info": {
      "name": "python"
    }
  },
  "cells": [
    {
      "cell_type": "markdown",
      "metadata": {
        "id": "view-in-github",
        "colab_type": "text"
      },
      "source": [
        "<a href=\"https://colab.research.google.com/github/sepehrnoory/EECS-700/blob/main/demos/EmbeddedML_L03_T1_0_Primer.ipynb\" target=\"_parent\"><img src=\"https://colab.research.google.com/assets/colab-badge.svg\" alt=\"Open In Colab\"/></a>"
      ]
    },
    {
      "cell_type": "markdown",
      "source": [
        "---\n",
        "\n",
        "\n",
        "Before starting, you must click on the \"Copy To Drive\" option in the top bar. Go to File --> Save a Copy to Drive. <ins>This is the master notebook so you will not be able to save your changes without copying it !</ins> Once you click on that, make sure you are working on that version of the notebook so that your work is saved.\n",
        "\n",
        "\n",
        "\n",
        "---"
      ],
      "metadata": {
        "id": "vp6-PthzqsQh"
      }
    },
    {
      "cell_type": "markdown",
      "source": [
        "# 1. Python Programming Language\n",
        "\n"
      ],
      "metadata": {
        "id": "mee3LpcyBzP2"
      }
    },
    {
      "cell_type": "markdown",
      "source": [
        "## **About Python**\n",
        "\n",
        "Python is a programming language that is very popular among the machine learning research community.\n",
        "It is a high-level programming language and has an extensive collection of libraries that can be easily installed.\n",
        "We require that you use python for the first section of the class, so it is important to be familiar with it."
      ],
      "metadata": {
        "id": "o8ngw_D2FO-L"
      }
    },
    {
      "cell_type": "markdown",
      "source": [
        "## **Some key features of Python**\n",
        "- Python is not compiled: you directly run the Python file\n",
        "- Python is dynamically typed (i.e., the types of the variables can change), and you do not declare types in Python\n",
        "\n",
        "```\n",
        "# This works in python\n",
        "x = 3\n",
        "x = \"python\"\n",
        "```\n",
        "\n",
        "- Python does not use parentheses. Instead, it uses whitespace to infer the scope of methods, for loops, etc.\n",
        "\n",
        "```\n",
        "for i in range(10):\n",
        "      print(i * 2)      # Indent by 4 spaces\n",
        "      print(i * 4)\n",
        "print('Done')       # No indent, runs after for loop\n",
        "```\n",
        "\n",
        "\n",
        "- Functions cannot be overloaded, instead use optional arguments\n",
        "\n",
        "```\n",
        "def f(x, y=0.0):\n",
        "      ....\n",
        "f(8)\n",
        "f(8, 2)\n",
        "```\n",
        "\n",
        "- Boolean values are `True` and `False`\n",
        "- Python uses hard brackets `[]` for indexing arrays and matrices\n",
        "- Python is 0-indexed, so the first item in a list is at index 0, not 1"
      ],
      "metadata": {
        "id": "oIybg41uEEtp"
      }
    },
    {
      "cell_type": "markdown",
      "source": [
        "\n",
        "## **Development Environments**\n",
        "- In the first section of the class we will use Google Colaboratory, which is one of many ways you can write python code. Colab is useful as an easy way to write interactive Python without having to install anything on your machine.\n",
        "\n",
        "- Other options include:\n",
        ">- Jupyter Notebooks: http://jupyter.org/install, and https://www.anaconda.com/download/ for the popular Anaconda distribution\n",
        "  - Text editors: Atom, Sublime, Visual Studio Code\n",
        "  - PyCharm: https://www.jetbrains.com/pycharm/"
      ],
      "metadata": {
        "id": "oFHXkq1IGGgJ"
      }
    },
    {
      "cell_type": "markdown",
      "source": [
        "# 2. Introduction to Google Colaboratory\n",
        "\n",
        "<p><img alt=\"Colaboratory logo\" height=\"45px\" src=\"/img/colab_favicon.ico\" align=\"left\" hspace=\"10px\" vspace=\"0px\"></p>\n",
        "\n",
        "<h1>What is Colaboratory?</h1>\n",
        "\n",
        "Colaboratory, or 'Colab' for short, allows you to write and execute Python in your browser, with\n",
        "- Zero configuration required\n",
        "- Free access to GPUs\n",
        "- Easy sharing\n",
        "\n",
        "Whether you're a <strong>student</strong>, a <strong>data scientist</strong> or an <strong>AI researcher</strong>, Colab can make your work easier. Watch <a href=\"https://www.youtube.com/watch?v=inN8seMm7UI\">Introduction to Colab</a> to find out more, or just get started below!"
      ],
      "metadata": {
        "id": "EqHhMGVWGmA_"
      }
    },
    {
      "cell_type": "markdown",
      "source": [
        "## <strong>Getting started</strong>\n",
        "\n",
        "The document that you are reading is not a static web page, but an interactive environment called a <strong>Colab notebook</strong> that lets you write and execute code.\n",
        "\n",
        "For example, here is a <strong>code cell</strong> with a short Python script that computes a value, stores it in a variable and prints the result.  Note that you can import many common packages, including some packages that would otherwise have to be pip-installed, directly into Colab."
      ],
      "metadata": {
        "id": "Vncei6LPGt1W"
      }
    },
    {
      "cell_type": "code",
      "execution_count": null,
      "metadata": {
        "id": "2FUOpQpXi2hQ",
        "colab": {
          "base_uri": "https://localhost:8080/"
        },
        "outputId": "42bd8d41-3b1e-436c-bdf5-4d9db67a57b5"
      },
      "outputs": [
        {
          "output_type": "stream",
          "name": "stdout",
          "text": [
            "The mean of xs is: 4.5\n"
          ]
        }
      ],
      "source": [
        "import numpy as np\n",
        "\n",
        "xs = range(10)  # values from 0 - 9\n",
        "\n",
        "mean_val = np.mean(xs)\n",
        "print(\"The mean of xs is:\", mean_val)"
      ]
    },
    {
      "cell_type": "markdown",
      "source": [
        "To execute the code in the above cell, select it with a click and then either press the play button to the left of the code, or use the keyboard shortcut 'Command/Ctrl+Enter'. To edit the code, just click the cell and start editing.\n",
        "\n",
        "Variables that you define in one cell can later be used in other cells:"
      ],
      "metadata": {
        "id": "y2kiDKLbHTkg"
      }
    },
    {
      "cell_type": "code",
      "source": [
        "seconds_in_a_day = 86400"
      ],
      "metadata": {
        "id": "f_Vo6gA2G_iM"
      },
      "execution_count": null,
      "outputs": []
    },
    {
      "cell_type": "code",
      "source": [
        "seconds_in_a_week = 7 * seconds_in_a_day\n",
        "print(\"The seconds in a week:\", seconds_in_a_week)"
      ],
      "metadata": {
        "id": "3WVOQUyhHbT_",
        "colab": {
          "base_uri": "https://localhost:8080/"
        },
        "outputId": "d6ef7ac3-36dd-4bcc-990a-fff3fd61379d"
      },
      "execution_count": null,
      "outputs": [
        {
          "output_type": "stream",
          "name": "stdout",
          "text": [
            "The seconds in a week: 604800\n"
          ]
        }
      ]
    },
    {
      "cell_type": "markdown",
      "source": [
        "When you create your own Colab notebooks, they are stored in your Google Drive account under a **Colab Notebooks/** directory. You can easily share your Colab notebooks with co-workers or friends, allowing them to comment on your notebooks or even edit them. To find out more, see <a href=\"/notebooks/basic_features_overview.ipynb\">Overview of Colab</a>. To create a new Colab notebook you can use the File menu above, or use the following link: <a href=\"http://colab.research.google.com#create=true\">Create a new Colab notebook</a>."
      ],
      "metadata": {
        "id": "KwUbxk9ps44W"
      }
    },
    {
      "cell_type": "markdown",
      "source": [
        "## **Data science**\n",
        "\n",
        "With Colab you can harness the full power of popular Python libraries to analyse and visualise data. The code cell below uses <strong>numpy</strong> to generate some random data, and uses <strong>matplotlib</strong> to visualise it. To edit the code, just click the cell and start editing.\n",
        "\n",
        "Numpy and Maplotlib librares are explained more in detail under the section <a href=\"#useful-packages\">Useful Packages</a>."
      ],
      "metadata": {
        "id": "1g2cT2c9J2uA"
      }
    },
    {
      "cell_type": "code",
      "source": [
        "import numpy as np\n",
        "from matplotlib import pyplot as plt\n",
        "\n",
        "ys = 200 + np.random.randn(100)\n",
        "x = [x for x in range(len(ys))]\n",
        "\n",
        "plt.plot(x, ys, '-')\n",
        "plt.fill_between(x, ys, 195, where=(ys > 195), facecolor='g', alpha=0.6)\n",
        "\n",
        "plt.title(\"Sample Visualization\")\n",
        "plt.show()"
      ],
      "metadata": {
        "id": "KkSfUTC_Hp1x",
        "colab": {
          "base_uri": "https://localhost:8080/",
          "height": 452
        },
        "outputId": "84315e57-fab7-4445-9152-2d3b0b393de4"
      },
      "execution_count": null,
      "outputs": [
        {
          "output_type": "display_data",
          "data": {
            "text/plain": [
              "<Figure size 640x480 with 1 Axes>"
            ],
            "image/png": "[encoded data removed]"
          },
          "metadata": {}
        }
      ]
    },
    {
      "cell_type": "markdown",
      "source": [
        "You can import your own data into Colab notebooks from your Google Drive account, including from spreadsheets, as well as from GitHub and many other sources."
      ],
      "metadata": {
        "id": "WVvyj5t6KEcb"
      }
    },
    {
      "cell_type": "markdown",
      "source": [
        "## **Machine learning**\n",
        "\n",
        "\n",
        "Have you ever wanted an easy-to-configure interactive environment to run your machine learning code that came with access to GPUs for free? Google Colab is the answer you’ve been looking for. Colab notebooks execute code on Google's cloud servers, meaning you can leverage the power of Google hardware, including <a href=\"#using-accelerated-hardware\">GPUs and TPUs</a>, regardless of the power of your machine. All you need is a browser.\n",
        "\n",
        "Colab is used extensively in the machine learning community with applications including:\n",
        "- Getting started with TensorFlow\n",
        "- Developing and training neural networks\n",
        "- Experimenting with TPUs\n",
        "- Disseminating AI research\n",
        "- Creating tutorials\n",
        "\n",
        "\n",
        "Machine Learning Frameworks such as **[TensorFlow](https://www.tensorflow.org/)**, **[Keras](https://keras.io/)**, and **[PyTorch](https://pytorch.org/)** can be incorporated with Google Colab for easy designing, training and deployment of models. In this class, we will be using the TensorFlow and Keras frameworks.\n",
        "\n",
        "\n",
        "\\\n",
        "To see sample Colab notebooks that demonstrate machine learning applications, see the <a href=\"#machine-learning-examples\">machine learning examples</a> below."
      ],
      "metadata": {
        "id": "uzCE9SDnKHus"
      }
    },
    {
      "cell_type": "markdown",
      "source": [
        "# 3. Coding in Python"
      ],
      "metadata": {
        "id": "GmeJQcvUMLNL"
      }
    },
    {
      "cell_type": "markdown",
      "source": [
        "### **Basics**"
      ],
      "metadata": {
        "id": "a8Wc1lNJMsnL"
      }
    },
    {
      "cell_type": "code",
      "source": [
        "# Assigning variables\n",
        "x = 4.2\n",
        "y = 8\n",
        "s = 'hello'\n",
        "\n",
        "# The types of variables can change without a problem\n",
        "y = 'abc'\n",
        "\n",
        "# To display variables, use the print function\n",
        "print(y)\n",
        "\n",
        "# The \"null\" type is called `None`\n",
        "z = None\n",
        "print(z)\n",
        "\n",
        "print(z == None)\n",
        "\n",
        "# Casting\n",
        "s = '140'\n",
        "print(int(s))\n",
        "s = '140.243'\n",
        "print(float(s))\n",
        "x = 123\n",
        "print(str(x))"
      ],
      "metadata": {
        "id": "tosuUI-iMuXT",
        "colab": {
          "base_uri": "https://localhost:8080/"
        },
        "outputId": "89dbb266-7533-4b31-8f80-7e28e48b7466"
      },
      "execution_count": null,
      "outputs": [
        {
          "output_type": "stream",
          "name": "stdout",
          "text": [
            "abc\n",
            "None\n",
            "True\n",
            "140\n",
            "140.243\n",
            "123\n"
          ]
        }
      ]
    },
    {
      "cell_type": "markdown",
      "source": [
        "### **String Manipulation**"
      ],
      "metadata": {
        "id": "6kHqJaCXM2BB"
      }
    },
    {
      "cell_type": "code",
      "source": [
        "s = \"ABCdef\"\n",
        "s = 'ABCdef'\n",
        "\n",
        "# Length\n",
        "print(len(s))  # 6\n",
        "\n",
        "# Standard Indexing: Notice hard brackets and 0-indexing\n",
        "print(s[0])      # 'A'\n",
        "print(s[1])      # 'B'\n",
        "print(s[5])      # 'f'\n",
        "# print(s[100])  # Error\n",
        "\n",
        "# Range Indexing\n",
        "print(s[1:4])    # 'BCd'\n",
        "print(s[2:])     # 'Cdef'\n",
        "print(s[:2])     # 'AB'\n",
        "print(s[1:100])  # 'BCdef'\n",
        "\n",
        "# Negative Indexing\n",
        "print(s[-1])    # 'f'\n",
        "print(s[-2])    # 'e'\n",
        "print(s[:-1])   # 'ABCde'\n",
        "print(s[:-3])   # 'ABC'\n",
        "print(s[::-1])  # 'fedCBA'\n",
        "\n",
        "# Concatenation\n",
        "print(s + 'xyz')     # 'ABCdefxyz'\n",
        "# print(s + 123)     # Error\n",
        "print(s + str(123))  # 'ABCdef123'\n",
        "\n",
        "# Splitting\n",
        "print(s.split('C'))  # ['AB', 'def']"
      ],
      "metadata": {
        "id": "co7g3-S7M4nh",
        "colab": {
          "base_uri": "https://localhost:8080/"
        },
        "outputId": "0fc79a7f-6be3-48ee-df9c-87cd9c1d2c79"
      },
      "execution_count": null,
      "outputs": [
        {
          "output_type": "stream",
          "name": "stdout",
          "text": [
            "6\n",
            "A\n",
            "B\n",
            "f\n",
            "BCd\n",
            "Cdef\n",
            "AB\n",
            "BCdef\n",
            "f\n",
            "e\n",
            "ABCde\n",
            "ABC\n",
            "fedCBA\n",
            "ABCdefxyz\n",
            "ABCdef123\n",
            "['AB', 'def']\n"
          ]
        }
      ]
    },
    {
      "cell_type": "markdown",
      "source": [
        "### **Lists**"
      ],
      "metadata": {
        "id": "Y5GfT8ClM6Ro"
      }
    },
    {
      "cell_type": "code",
      "source": [
        "a = [0, 4, 2, 8, 9]  # Create a list with initial items\n",
        "b = []  # Create an empty list\n",
        "\n",
        "# Length\n",
        "print(len(a))  # 5\n",
        "\n",
        "# The same indexing operations on strings work for lists\n",
        "print(a[1])    # 4\n",
        "print(a[2:4])  # [2, 8]\n",
        "print(a[-2])   # 8\n",
        "\n",
        "# Sort the list\n",
        "print(sorted(a))                # [0, 2, 4, 8, 9] Creates a copy, does not modify the original list\n",
        "print(sorted(a, reverse=True))  # [9, 8, 4, 2, 0] Also a copy\n",
        "\n",
        "# Add items to the end of the list\n",
        "a.append(10)  # Returns nothing\n",
        "print(a)      # [0, 4, 2, 8, 9, 10]\n",
        "a += [1, 12]  # Returns nothing\n",
        "print(a)      # [0, 4, 2, 8, 9, 10, 1, 12]\n",
        "\n",
        "# Lists don't have to be the same type in python\n",
        "a.append('machine learning')\n",
        "print(a)            # [0, 4, 2, 8, 9, 10, 1, 12, 'machine learning']\n",
        "# print(sorted(a))  # Causes an error\n",
        "\n",
        "# Searching\n",
        "print(8 in a)    # True\n",
        "print(100 in a)  # False"
      ],
      "metadata": {
        "id": "uUTjHks0M7U1",
        "colab": {
          "base_uri": "https://localhost:8080/"
        },
        "outputId": "ecf8bb06-7c96-4b6b-897e-c0e4901cb8eb"
      },
      "execution_count": null,
      "outputs": [
        {
          "output_type": "stream",
          "name": "stdout",
          "text": [
            "5\n",
            "4\n",
            "[2, 8]\n",
            "8\n",
            "[0, 2, 4, 8, 9]\n",
            "[9, 8, 4, 2, 0]\n",
            "[0, 4, 2, 8, 9, 10]\n",
            "[0, 4, 2, 8, 9, 10, 1, 12]\n",
            "[0, 4, 2, 8, 9, 10, 1, 12, 'machine learning']\n",
            "True\n",
            "False\n"
          ]
        }
      ]
    },
    {
      "cell_type": "markdown",
      "source": [
        "### **Dictionaries**\n",
        "\n",
        "https://developers.google.com/edu/python/dict-files"
      ],
      "metadata": {
        "id": "Of7vrV-dNEvK"
      }
    },
    {
      "cell_type": "code",
      "source": [
        "d = {}       # Create an empty dictionary, which is a key-value map\n",
        "d['a'] = 97  # Add an item to the dictionary\n",
        "print(d)     # {'a': 97}\n",
        "print(d['a'])\n",
        "\n",
        "d['c'] = 99\n",
        "d[0] = [0, 1, 2]  # Keys and values don't need to be the same type\n",
        "print(d)          # {'a': 97, 'c': 99, 0: [0, 1, 2]}\n",
        "\n",
        "# Retrieve the keys and values of the dictionary.\n",
        "# These are not actually lists, but look like it. Call list(d.keys()) to actually convert it to a list\n",
        "keys = d.keys()      # Retrieve a list of the keys of the dictionary, not necessarily in any order\n",
        "values = d.values()  # Retrieve a list of the values of the dictionary, not necessarily in any order\n",
        "print(keys)          # ['a', 'c', 0]\n",
        "print(values)        # [97, 99, [0, 1, 2]]\n",
        "\n",
        "# Check to see if items are in the dictionary (checks keys)\n",
        "print('a' in d)  # True\n",
        "print('x' in d)  # False\n",
        "\n",
        "# Remove an item from the list\n",
        "del d['a']    # Returns nothing, modifies inplace\n",
        "# del d['y']  # Error"
      ],
      "metadata": {
        "id": "dSxI0h7gNJNI",
        "colab": {
          "base_uri": "https://localhost:8080/"
        },
        "outputId": "071ee3b6-1c79-48f2-8081-ee93ddb55640"
      },
      "execution_count": null,
      "outputs": [
        {
          "output_type": "stream",
          "name": "stdout",
          "text": [
            "{'a': 97}\n",
            "97\n",
            "{'a': 97, 'c': 99, 0: [0, 1, 2]}\n",
            "dict_keys(['a', 'c', 0])\n",
            "dict_values([97, 99, [0, 1, 2]])\n",
            "True\n",
            "False\n"
          ]
        }
      ]
    },
    {
      "cell_type": "markdown",
      "source": [
        "### **If Statements**"
      ],
      "metadata": {
        "id": "elawLDLgNVXA"
      }
    },
    {
      "cell_type": "code",
      "source": [
        "# Python doesn't require parenthese\n",
        "a, b = 7, 10\n",
        "\n",
        "# equality\n",
        "if a == 7:\n",
        "    print('yes')\n",
        "else:\n",
        "    print('no')\n",
        "\n",
        "# not equal\n",
        "if a != 8:\n",
        "    print('neq')\n",
        "\n",
        "# and\n",
        "if a > 5 and b <= 10:\n",
        "    print('1')\n",
        "elif a > 10:\n",
        "    print('2')\n",
        "else:\n",
        "    print('3')\n",
        "\n",
        "# or\n",
        "if a < 10 or b > 100:\n",
        "    print('yes')\n",
        "\n",
        "# Strings also use '=='\n",
        "s = 'abc'\n",
        "if s == 'abc':\n",
        "    print('here')"
      ],
      "metadata": {
        "id": "1R4tq6fSNYJv",
        "colab": {
          "base_uri": "https://localhost:8080/"
        },
        "outputId": "82ae0544-27f6-468b-9215-db2b76474c87"
      },
      "execution_count": null,
      "outputs": [
        {
          "output_type": "stream",
          "name": "stdout",
          "text": [
            "yes\n",
            "neq\n",
            "1\n",
            "yes\n",
            "here\n"
          ]
        }
      ]
    },
    {
      "cell_type": "markdown",
      "source": [
        "### **For Loops**"
      ],
      "metadata": {
        "id": "Oj77OsViNbGS"
      }
    },
    {
      "cell_type": "code",
      "source": [
        "a = [0, 8, 3, 5, 1]\n",
        "\n",
        "range(5)     # Dynamically generates 0, 1, 2, 3, 4\n",
        "range(1, 5)  # 1, 2, 3, 4\n",
        "\n",
        "# \"Standard\" for loop\n",
        "for i in range(len(a)):\n",
        "    print(a[i])\n",
        "\n",
        "# Iterate over each element in the list\n",
        "for x in a:\n",
        "    print(x)\n",
        "\n",
        "# Iterating through dictionaries\n",
        "d = {0: 'a', 1: 'b', 2: 'c'}\n",
        "for key, value in d.items():\n",
        "    print(str(key) + ' -> ' + value)\n",
        "\n",
        "\n",
        "# Loop over items in an array and get the index at the same time\n",
        "for index, item in enumerate(a):\n",
        "  print(index, item)"
      ],
      "metadata": {
        "id": "c27vzANkNg2Z",
        "colab": {
          "base_uri": "https://localhost:8080/"
        },
        "outputId": "ba42865d-0ec2-400e-fed6-9c01c46fc5cc"
      },
      "execution_count": null,
      "outputs": [
        {
          "output_type": "stream",
          "name": "stdout",
          "text": [
            "0\n",
            "8\n",
            "3\n",
            "5\n",
            "1\n",
            "0\n",
            "8\n",
            "3\n",
            "5\n",
            "1\n",
            "0 -> a\n",
            "1 -> b\n",
            "2 -> c\n",
            "0 0\n",
            "1 8\n",
            "2 3\n",
            "3 5\n",
            "4 1\n"
          ]
        }
      ]
    },
    {
      "cell_type": "markdown",
      "source": [
        "### **Functions**"
      ],
      "metadata": {
        "id": "e5MicoagNjoJ"
      }
    },
    {
      "cell_type": "code",
      "source": [
        "# No return type specification necessary\n",
        "def add(x, y):\n",
        "    return x + y\n",
        "\n",
        "def concat(list_1, list_2):\n",
        "    list_1 += list_2\n",
        "\n",
        "print(add(3, 4))        # 7\n",
        "# print(add(4, 8, 10))  # Error\n",
        "\n",
        "# Arguments can be passed by name\n",
        "print(add(y=8, x=2))  # 10\n",
        "\n",
        "a1 = [0, 1]\n",
        "a2 = [3, 5]\n",
        "concat(a1, a2)  # Returns nothing\n",
        "print(a1)       # [0, 1, 3, 5]\n",
        "\n",
        "# Methods can return more than one thing\n",
        "def two(a):\n",
        "  return a + 1, a + 2\n",
        "\n",
        "a3, a4 = two(1)\n",
        "print(a3)  # 2\n",
        "print(a4)  # 3\n",
        "\n",
        "t = two(1)\n",
        "print(t[0])\n",
        "print(t[1])"
      ],
      "metadata": {
        "id": "gW1cJdYhNsI0",
        "colab": {
          "base_uri": "https://localhost:8080/"
        },
        "outputId": "89912771-e756-445f-9f42-e6dd76f3feb8"
      },
      "execution_count": null,
      "outputs": [
        {
          "output_type": "stream",
          "name": "stdout",
          "text": [
            "7\n",
            "10\n",
            "[0, 1, 3, 5]\n",
            "2\n",
            "3\n",
            "2\n",
            "3\n"
          ]
        }
      ]
    },
    {
      "cell_type": "markdown",
      "source": [
        "### **List and Dictionary Comprehension**"
      ],
      "metadata": {
        "id": "xfjNGqW1NxC9"
      }
    },
    {
      "cell_type": "code",
      "source": [
        "# Sometimes code can be simplified using list/dictionary comprehensions\n",
        "def add_one(x):\n",
        "  return x + 1\n",
        "\n",
        "# The standard way to apply a function to every element and save in y\n",
        "x = [0, 1, 2, 3]\n",
        "y = []\n",
        "for i in range(len(x)):\n",
        "  y.append(add_one(x[i]))\n",
        "\n",
        "# This is equivalent to the above\n",
        "y = [add_one(x_i) for x_i in x]\n",
        "\n",
        "# Add conditionals\n",
        "y2 = [add_one(x_i) for x_i in x if x_i > 1]\n",
        "\n",
        "# Dictionary comprehensions can be used to create dictionaries easily.\n",
        "# This creates a mapping from x_i -> x_i * 4\n",
        "d = {x_i : x_i * 4 for x_i in x}\n",
        "print(d)\n",
        "print(d[2])  # 8"
      ],
      "metadata": {
        "id": "JTWLkXYVN09W",
        "colab": {
          "base_uri": "https://localhost:8080/"
        },
        "outputId": "346160b1-2c40-43eb-fee2-a7bdacce948b"
      },
      "execution_count": null,
      "outputs": [
        {
          "output_type": "stream",
          "name": "stdout",
          "text": [
            "{0: 0, 1: 4, 2: 8, 3: 12}\n",
            "8\n"
          ]
        }
      ]
    },
    {
      "cell_type": "markdown",
      "source": [
        "### **Classes**"
      ],
      "metadata": {
        "id": "7NLWu79PN27f"
      }
    },
    {
      "cell_type": "code",
      "source": [
        "class Person(object):\n",
        "    # This is the constructor. All instance methods of a class\n",
        "    # must accept `self` as the first parameter\n",
        "    # The self parameter is a reference to the current instance of the class, and is used to access variables that belongs to the class\n",
        "    # You use `self` to access data members and methods of the class\n",
        "\n",
        "    def __init__(self, name, age):\n",
        "        # This will call the super class's constructor; Optional if you inherit from `object`\n",
        "        super().__init__()\n",
        "\n",
        "        # Assign data members\n",
        "        self.name = name\n",
        "        self.age = age\n",
        "\n",
        "    def is_adult(self):\n",
        "        return self.age >= 18\n",
        "\n",
        "    def is_child(self):\n",
        "        # Other instance methods are called with the `self` keyword.\n",
        "        return not self.is_adult()\n",
        "\n",
        "    def increment_age(self, amount):\n",
        "        self.age += amount\n",
        "\n",
        "    # Test to see if two `Person` objects are equal\n",
        "    def __eq__(self, other):\n",
        "        return self.name == other.name and self.age == other.age"
      ],
      "metadata": {
        "id": "JWtrjx0y93Gv"
      },
      "execution_count": null,
      "outputs": []
    },
    {
      "cell_type": "code",
      "source": [
        "p = Person('Bob', 19)\n",
        "\n",
        "# Data members can be accessed directly\n",
        "print(p.name)  # 'Bob'\n",
        "print(p.age)   # 19\n",
        "\n",
        "# Even though all of the methods require a `self` argument, you ignore that argument\n",
        "# when calling the method\n",
        "print(p.is_adult())  # True\n",
        "\n",
        "p.increment_age(1)  # Returns nothing\n",
        "print(p.age)        # 20\n",
        "\n",
        "p2 = Person('Mary', 30)\n",
        "print(p == p2)  # False\n",
        "\n",
        "p3 = Person('Mary', 30)\n",
        "print(p2 == p3)  # True"
      ],
      "metadata": {
        "id": "LykkySIK-Uvy",
        "colab": {
          "base_uri": "https://localhost:8080/"
        },
        "outputId": "a0cbb153-4237-4827-8cde-12657a5a1ce0"
      },
      "execution_count": null,
      "outputs": [
        {
          "output_type": "stream",
          "name": "stdout",
          "text": [
            "Bob\n",
            "19\n",
            "True\n",
            "20\n",
            "False\n",
            "True\n"
          ]
        }
      ]
    },
    {
      "cell_type": "markdown",
      "source": [
        "# 3. Useful Packages\n",
        "\n",
        "<a name=\"useful-packages\"></a>\n",
        "\n",
        "There are many packages that come with your python installation as well as many which can be downloaded easily. We will be primarily using the numpy and matplotlib packages.\n",
        "\n",
        "A library that comes with Colab by default can be imported using the `import` command.\n",
        "\n",
        "To import a library that's not in Colab by default, you can use the `!pip install` command"
      ],
      "metadata": {
        "id": "ZedsYVCj_cvT"
      }
    },
    {
      "cell_type": "markdown",
      "source": [
        "### **random**\n",
        "The `random` package provides tools for generating random numbers."
      ],
      "metadata": {
        "id": "N12tC-Hr0w0Q"
      }
    },
    {
      "cell_type": "code",
      "source": [
        "import random\n",
        "\n",
        "random.seed(4)\n",
        "\n",
        "print(random.randint(1, 5))  # A random integer in (1, 5)\n",
        "\n",
        "print(random.random())  # A random number in (0, 1.0]\n",
        "\n",
        "# Randomly shuffle a list\n",
        "a = [0, 1, 2, 3, 4, 5]\n",
        "random.shuffle(a)  # Shuffles in place - does not return a copy\n",
        "print(a)"
      ],
      "metadata": {
        "id": "8FWPkdD800hX",
        "colab": {
          "base_uri": "https://localhost:8080/"
        },
        "outputId": "ff59e8ab-69c4-4f07-a96d-c49b6e8bc4d8"
      },
      "execution_count": null,
      "outputs": [
        {
          "output_type": "stream",
          "name": "stdout",
          "text": [
            "2\n",
            "0.30329858588551006\n",
            "[1, 2, 0, 4, 3, 5]\n"
          ]
        }
      ]
    },
    {
      "cell_type": "markdown",
      "source": [
        "### **numpy**\n",
        "`numpy` is a very useful matrix library for Python.\n",
        "It is used very frequently in machine learning, so it is good to be familiar with it.\n"
      ],
      "metadata": {
        "id": "Axk3bWkW0w4n"
      }
    },
    {
      "cell_type": "code",
      "source": [
        "# Imports can be aliased to simplify code\n",
        "import numpy as np  # The numpy library is now referenced with np\n",
        "\n",
        "# Create a vector of length 5 of all 0s\n",
        "v = np.zeros(5)\n",
        "print(v)\n",
        "\n",
        "print(v.shape)     # Returns a tuple of the dimensions: (5,)\n",
        "print(v.shape[0])  # Returns the size of the 0th dimension, 5\n",
        "\n",
        "# You can assign specific entries by their index into the vector\n",
        "v[0] = 1\n",
        "v[1] = 4\n",
        "\n",
        "# You can assign ranges of values\n",
        "v[2:5] = [5, 3, 6]\n",
        "print(v)\n",
        "\n",
        "# Create a random vector of values between 0 and 1\n",
        "np.random.seed(1)\n",
        "v1 = np.random.rand(5)\n",
        "print(v1)\n",
        "\n",
        "# Compute the dot product\n",
        "print(np.dot(v, v1))\n",
        "\n",
        "# Element-wise multiplication\n",
        "print(v * v1)\n",
        "print(np.multiply(v, v1))  # equivalent\n",
        "\n",
        "# Multiply the whole vector by a scalar, add a constant\n",
        "print(v * 5)\n",
        "print(v + 3)"
      ],
      "metadata": {
        "id": "0-vewE_M06q5",
        "colab": {
          "base_uri": "https://localhost:8080/"
        },
        "outputId": "b2f0bafb-c97b-4a85-b8a4-d4b9df53c310"
      },
      "execution_count": null,
      "outputs": [
        {
          "output_type": "stream",
          "name": "stdout",
          "text": [
            "[0. 0. 0. 0. 0.]\n",
            "(5,)\n",
            "5\n",
            "[1. 4. 5. 3. 6.]\n",
            "[4.17022005e-01 7.20324493e-01 1.14374817e-04 3.02332573e-01\n",
            " 1.46755891e-01]\n",
            "5.086424915356129\n",
            "[4.17022005e-01 2.88129797e+00 5.71874087e-04 9.06997718e-01\n",
            " 8.80535345e-01]\n",
            "[4.17022005e-01 2.88129797e+00 5.71874087e-04 9.06997718e-01\n",
            " 8.80535345e-01]\n",
            "[ 5. 20. 25. 15. 30.]\n",
            "[4. 7. 8. 6. 9.]\n"
          ]
        }
      ]
    },
    {
      "cell_type": "code",
      "source": [
        "# Matrices work much the same way (vectors are just matrices with 1 dimension)\n",
        "# `np.ones` creates a matrix of the given input size\n",
        "t = (3, 4)\n",
        "X = np.ones(t)\n",
        "print(X)\n",
        "print(X.shape)     # (3, 4)\n",
        "print(X.shape[0])  # 3\n",
        "print(X.shape[1])  # 4\n",
        "\n",
        "# Assigning specific entries requires 2 indices\n",
        "# The first is the row index, the second is the column index\n",
        "X[1, 3] = 8\n",
        "print(X)\n",
        "\n",
        "# The `:` selects the entire row or column\n",
        "row1 = X[1, :]\n",
        "print(row1)\n",
        "print(X[:, 2])\n",
        "\n",
        "# It can also be used to assign values\n",
        "X[1, :] = [1, 2, 3, 4]\n",
        "print(X)\n",
        "\n",
        "# Matrix multiplication\n",
        "Y = np.random.rand(4, 5)\n",
        "print(np.matmul(X, Y))  # A matrix of size (3, 5)\n",
        "\n",
        "# Transpose\n",
        "print(X.transpose())\n",
        "print(X.T)  # equivalent\n",
        "\n",
        "# You can create a matrix from a list (of lists)\n",
        "Z = np.asarray(\n",
        "    [\n",
        "        [0, 1, 2],\n",
        "        [3, 4, 5]\n",
        "    ])\n",
        "print(Z)"
      ],
      "metadata": {
        "id": "KMSfvqTA09pQ",
        "colab": {
          "base_uri": "https://localhost:8080/"
        },
        "outputId": "11e7d786-0f70-4319-d3fb-3c9d8ef60daf"
      },
      "execution_count": null,
      "outputs": [
        {
          "output_type": "stream",
          "name": "stdout",
          "text": [
            "[[1. 1. 1. 1.]\n",
            " [1. 1. 1. 1.]\n",
            " [1. 1. 1. 1.]]\n",
            "(3, 4)\n",
            "3\n",
            "4\n",
            "[[1. 1. 1. 1.]\n",
            " [1. 1. 1. 8.]\n",
            " [1. 1. 1. 1.]]\n",
            "[1. 1. 1. 8.]\n",
            "[1. 1. 1.]\n",
            "[[1. 1. 1. 1.]\n",
            " [1. 2. 3. 4.]\n",
            " [1. 1. 1. 1.]]\n",
            "[[1.98274519 2.25704609 1.42212698 2.10759446 1.64069497]\n",
            " [6.14510843 6.68165992 3.68423142 5.34345363 4.693453  ]\n",
            " [1.98274519 2.25704609 1.42212698 2.10759446 1.64069497]]\n",
            "[[1. 1. 1.]\n",
            " [1. 2. 1.]\n",
            " [1. 3. 1.]\n",
            " [1. 4. 1.]]\n",
            "[[1. 1. 1.]\n",
            " [1. 2. 1.]\n",
            " [1. 3. 1.]\n",
            " [1. 4. 1.]]\n",
            "[[0 1 2]\n",
            " [3 4 5]]\n"
          ]
        }
      ]
    },
    {
      "cell_type": "code",
      "source": [
        "# Useful ways to initialize matrices\n",
        "A = np.zeros((5, 3))  # A 5x5 matrix of all 0s\n",
        "print(A)\n",
        "\n",
        "A = np.ones((5, 3))  # A 5x3 matrix of all 1s\n",
        "print(A)\n",
        "\n",
        "A = np.eye(5)  # I matrix of size 5x5\n",
        "print(A)\n",
        "\n",
        "A = np.random.rand(5, 3)  # A random matrix of size 5x3 with numbers between 0 and 1\n",
        "print(A)\n",
        "\n",
        "A = np.random.randint(1, 4, (5, 3)) # A random matrix of integers in (0, 4] of size 5x3\n",
        "print(A)"
      ],
      "metadata": {
        "id": "-wJR-QXS1G_4",
        "colab": {
          "base_uri": "https://localhost:8080/"
        },
        "outputId": "5c3c5d89-094e-4c96-d7c3-f90a1119be91"
      },
      "execution_count": null,
      "outputs": [
        {
          "output_type": "stream",
          "name": "stdout",
          "text": [
            "[[0. 0. 0.]\n",
            " [0. 0. 0.]\n",
            " [0. 0. 0.]\n",
            " [0. 0. 0.]\n",
            " [0. 0. 0.]]\n",
            "[[1. 1. 1.]\n",
            " [1. 1. 1.]\n",
            " [1. 1. 1.]\n",
            " [1. 1. 1.]\n",
            " [1. 1. 1.]]\n",
            "[[1. 0. 0. 0. 0.]\n",
            " [0. 1. 0. 0. 0.]\n",
            " [0. 0. 1. 0. 0.]\n",
            " [0. 0. 0. 1. 0.]\n",
            " [0. 0. 0. 0. 1.]]\n",
            "[[0.89460666 0.08504421 0.03905478]\n",
            " [0.16983042 0.8781425  0.09834683]\n",
            " [0.42110763 0.95788953 0.53316528]\n",
            " [0.69187711 0.31551563 0.68650093]\n",
            " [0.83462567 0.01828828 0.75014431]]\n",
            "[[1 1 2]\n",
            " [3 3 2]\n",
            " [1 3 2]\n",
            " [3 2 1]\n",
            " [2 2 3]]\n"
          ]
        }
      ]
    },
    {
      "cell_type": "markdown",
      "source": [
        "To know more about the methods and functions in `numpy`, visit the numpy User Guide: https://numpy.org/doc/stable/user/"
      ],
      "metadata": {
        "id": "ktbna8uz1KCR"
      }
    },
    {
      "cell_type": "markdown",
      "source": [
        "### **matplotlib**\n",
        "`matplotlib` is a very useful data visualization library for Python.\n",
        "It is also very frequently used in machine learning to visualize model loss during training, model predictions etc."
      ],
      "metadata": {
        "id": "G_TgoQ8I1KI9"
      }
    },
    {
      "cell_type": "markdown",
      "source": [
        "**Example 1**: Plotting both sine and cosine waves on the same plot."
      ],
      "metadata": {
        "id": "Kp7lFzGO_pt9"
      }
    },
    {
      "cell_type": "code",
      "source": [
        "# Imports can be aliased to simplify code\n",
        "import matplotlib.pyplot as plt  # The matplotlib.pyplot library is now referenced with plt\n",
        "\n",
        "# plotting sin and cos waves on the same plot\n",
        "x = np.linspace(0, 10, 100)   # x-axis\n",
        "\n",
        "fig = plt.figure()\n",
        "plt.plot(x, np.sin(x), '-')   # y-axis: sin(x)\n",
        "plt.plot(x, np.cos(x), '--')  # y-axis: cos(x)\n",
        "\n",
        "# adding axis labels\n",
        "plt.xlabel('x')\n",
        "plt.ylabel('sin(x)/cos(x)')\n",
        "\n",
        "# adding title and legend\n",
        "plt.title(\"Sine and Cosine curves\")\n",
        "plt.legend(['sin(x)', 'cos(x)'])"
      ],
      "metadata": {
        "id": "FHEU0EOT76r0",
        "colab": {
          "base_uri": "https://localhost:8080/",
          "height": 490
        },
        "outputId": "9ea027c7-bf0b-4dad-ba2e-7e9b0fec0a7e"
      },
      "execution_count": null,
      "outputs": [
        {
          "output_type": "execute_result",
          "data": {
            "text/plain": [
              "<matplotlib.legend.Legend at 0x7b8778022d10>"
            ]
          },
          "metadata": {},
          "execution_count": 56
        },
        {
          "output_type": "display_data",
          "data": {
            "text/plain": [
              "<Figure size 640x480 with 1 Axes>"
            ],
            "image/png": "[encoded data removed]"
          },
          "metadata": {}
        }
      ]
    },
    {
      "cell_type": "markdown",
      "source": [
        "**Example 2:** Plotting sine and cosine waves on different plots but one image - subplots."
      ],
      "metadata": {
        "id": "vmKUTdia_vkq"
      }
    },
    {
      "cell_type": "code",
      "source": [
        "# plotting sin and cos waves on different plots but one image\n",
        "x = np.linspace(0, 10, 100)   # x-axis\n",
        "\n",
        "fig, (ax1, ax2) = plt.subplots(1, 2, sharey=True)\n",
        "ax1.plot(x, np.sin(x), '-')   # y-axis: sin(x)\n",
        "ax2.plot(x, np.cos(x), '--')  # y-axis: cos(x)\n",
        "\n",
        "# adding axis labels\n",
        "ax1.set_xlabel('x')\n",
        "ax2.set_xlabel('x')\n",
        "\n",
        "ax1.set_ylabel('sin(x)')\n",
        "ax2.set_ylabel('cos(x)')\n",
        "\n",
        "\n",
        "# adding title\n",
        "ax1.set_title('Sine Wave')\n",
        "ax2.set_title('Cosine Wave')"
      ],
      "metadata": {
        "id": "5dT9a3UI_1M0",
        "colab": {
          "base_uri": "https://localhost:8080/",
          "height": 490
        },
        "outputId": "5bce68df-8458-4aad-e9d1-af6ef0b94aba"
      },
      "execution_count": null,
      "outputs": [
        {
          "output_type": "execute_result",
          "data": {
            "text/plain": [
              "Text(0.5, 1.0, 'Cosine Wave')"
            ]
          },
          "metadata": {},
          "execution_count": 20
        },
        {
          "output_type": "display_data",
          "data": {
            "text/plain": [
              "<Figure size 640x480 with 2 Axes>"
            ],
            "image/png": "[encoded data removed]"
          },
          "metadata": {}
        }
      ]
    },
    {
      "cell_type": "markdown",
      "source": [
        "**Example 3:** Scatter Plot - We plot the yield of apples and oranges (in tons per hectare) for 6 years ranging form 2010 to 2015."
      ],
      "metadata": {
        "id": "00cyHg9yBwrw"
      }
    },
    {
      "cell_type": "code",
      "source": [
        "# python list representing the years\n",
        "years = [2010, 2011, 2012, 2013, 2014, 2015]\n",
        "\n",
        "# python list representing yield (tons per hectare)\n",
        "yield_apples = [0.895, 0.91, 0.919, 0.926, 0.929, 0.931]\n",
        "yield_oranges = [0.962, 0.941, 0.930, 0.923, 0.918, 0.908]\n",
        "\n",
        "plt.scatter(years, yield_apples, marker='x', color='red')\n",
        "plt.scatter(years, yield_oranges, marker='o', color='orange')\n",
        "\n",
        "# adding axis labels\n",
        "plt.xlabel('years')\n",
        "plt.ylabel('yield (tons/hectare)')\n",
        "\n",
        "# adding title and legend\n",
        "plt.title(\"Yield of Apples and Oranges\")\n",
        "plt.legend(['apples', 'oranges'])"
      ],
      "metadata": {
        "id": "gl27LIXnBzvM",
        "colab": {
          "base_uri": "https://localhost:8080/",
          "height": 490
        },
        "outputId": "2c234b71-cc63-47ce-e18d-f2e483a2794a"
      },
      "execution_count": null,
      "outputs": [
        {
          "output_type": "execute_result",
          "data": {
            "text/plain": [
              "<matplotlib.legend.Legend at 0x7b8808067dc0>"
            ]
          },
          "metadata": {},
          "execution_count": 21
        },
        {
          "output_type": "display_data",
          "data": {
            "text/plain": [
              "<Figure size 640x480 with 1 Axes>"
            ],
            "image/png": "[encoded data removed]"
          },
          "metadata": {}
        }
      ]
    },
    {
      "cell_type": "markdown",
      "source": [
        "**Example 4:** Display an Image - upload an image from your local system and display it."
      ],
      "metadata": {
        "id": "nV8qvG7xD3sP"
      }
    },
    {
      "cell_type": "code",
      "source": [
        "from google.colab import files\n",
        "\n",
        "uploaded = files.upload()"
      ],
      "metadata": {
        "id": "HtshZ44TEbHG",
        "colab": {
          "base_uri": "https://localhost:8080/",
          "height": 74
        },
        "outputId": "856968b8-fdd7-414e-f0b5-0d094e07b216"
      },
      "execution_count": null,
      "outputs": [
        {
          "output_type": "display_data",
          "data": {
            "text/plain": [
              "<IPython.core.display.HTML object>"
            ],
            "text/html": [
              "\n",
              "     <input type=\"file\" id=\"files-720431f9-b6a0-4872-be82-b426a5d2f33a\" name=\"files[]\" multiple disabled\n",
              "        style=\"border:none\" />\n",
              "     <output id=\"result-720431f9-b6a0-4872-be82-b426a5d2f33a\">\n",
              "      Upload widget is only available when the cell has been executed in the\n",
              "      current browser session. Please rerun this cell to enable.\n",
              "      </output>\n",
              "      <script>// Copyright 2017 Google LLC\n",
              "//\n",
              "// Licensed under the Apache License, Version 2.0 (the \"License\");\n",
              "// you may not use this file except in compliance with the License.\n",
              "// You may obtain a copy of the License at\n",
              "//\n",
              "//      http://www.apache.org/licenses/LICENSE-2.0\n",
              "//\n",
              "// Unless required by applicable law or agreed to in writing, software\n",
              "// distributed under the License is distributed on an \"AS IS\" BASIS,\n",
              "// WITHOUT WARRANTIES OR CONDITIONS OF ANY KIND, either express or implied.\n",
              "// See the License for the specific language governing permissions and\n",
              "// limitations under the License.\n",
              "\n",
              "/**\n",
              " * @fileoverview Helpers for google.colab Python module.\n",
              " */\n",
              "(function(scope) {\n",
              "function span(text, styleAttributes = {}) {\n",
              "  const element = document.createElement('span');\n",
              "  element.textContent = text;\n",
              "  for (const key of Object.keys(styleAttributes)) {\n",
              "    element.style[key] = styleAttributes[key];\n",
              "  }\n",
              "  return element;\n",
              "}\n",
              "\n",
              "// Max number of bytes which will be uploaded at a time.\n",
              "const MAX_PAYLOAD_SIZE = 100 * 1024;\n",
              "\n",
              "function _uploadFiles(inputId, outputId) {\n",
              "  const steps = uploadFilesStep(inputId, outputId);\n",
              "  const outputElement = document.getElementById(outputId);\n",
              "  // Cache steps on the outputElement to make it available for the next call\n",
              "  // to uploadFilesContinue from Python.\n",
              "  outputElement.steps = steps;\n",
              "\n",
              "  return _uploadFilesContinue(outputId);\n",
              "}\n",
              "\n",
              "// This is roughly an async generator (not supported in the browser yet),\n",
              "// where there are multiple asynchronous steps and the Python side is going\n",
              "// to poll for completion of each step.\n",
              "// This uses a Promise to block the python side on completion of each step,\n",
              "// then passes the result of the previous step as the input to the next step.\n",
              "function _uploadFilesContinue(outputId) {\n",
              "  const outputElement = document.getElementById(outputId);\n",
              "  const steps = outputElement.steps;\n",
              "\n",
              "  const next = steps.next(outputElement.lastPromiseValue);\n",
              "  return Promise.resolve(next.value.promise).then((value) => {\n",
              "    // Cache the last promise value to make it available to the next\n",
              "    // step of the generator.\n",
              "    outputElement.lastPromiseValue = value;\n",
              "    return next.value.response;\n",
              "  });\n",
              "}\n",
              "\n",
              "/**\n",
              " * Generator function which is called between each async step of the upload\n",
              " * process.\n",
              " * @param {string} inputId Element ID of the input file picker element.\n",
              " * @param {string} outputId Element ID of the output display.\n",
              " * @return {!Iterable<!Object>} Iterable of next steps.\n",
              " */\n",
              "function* uploadFilesStep(inputId, outputId) {\n",
              "  const inputElement = document.getElementById(inputId);\n",
              "  inputElement.disabled = false;\n",
              "\n",
              "  const outputElement = document.getElementById(outputId);\n",
              "  outputElement.innerHTML = '';\n",
              "\n",
              "  const pickedPromise = new Promise((resolve) => {\n",
              "    inputElement.addEventListener('change', (e) => {\n",
              "      resolve(e.target.files);\n",
              "    });\n",
              "  });\n",
              "\n",
              "  const cancel = document.createElement('button');\n",
              "  inputElement.parentElement.appendChild(cancel);\n",
              "  cancel.textContent = 'Cancel upload';\n",
              "  const cancelPromise = new Promise((resolve) => {\n",
              "    cancel.onclick = () => {\n",
              "      resolve(null);\n",
              "    };\n",
              "  });\n",
              "\n",
              "  // Wait for the user to pick the files.\n",
              "  const files = yield {\n",
              "    promise: Promise.race([pickedPromise, cancelPromise]),\n",
              "    response: {\n",
              "      action: 'starting',\n",
              "    }\n",
              "  };\n",
              "\n",
              "  cancel.remove();\n",
              "\n",
              "  // Disable the input element since further picks are not allowed.\n",
              "  inputElement.disabled = true;\n",
              "\n",
              "  if (!files) {\n",
              "    return {\n",
              "      response: {\n",
              "        action: 'complete',\n",
              "      }\n",
              "    };\n",
              "  }\n",
              "\n",
              "  for (const file of files) {\n",
              "    const li = document.createElement('li');\n",
              "    li.append(span(file.name, {fontWeight: 'bold'}));\n",
              "    li.append(span(\n",
              "        `(${file.type || 'n/a'}) - ${file.size} bytes, ` +\n",
              "        `last modified: ${\n",
              "            file.lastModifiedDate ? file.lastModifiedDate.toLocaleDateString() :\n",
              "                                    'n/a'} - `));\n",
              "    const percent = span('0% done');\n",
              "    li.appendChild(percent);\n",
              "\n",
              "    outputElement.appendChild(li);\n",
              "\n",
              "    const fileDataPromise = new Promise((resolve) => {\n",
              "      const reader = new FileReader();\n",
              "      reader.onload = (e) => {\n",
              "        resolve(e.target.result);\n",
              "      };\n",
              "      reader.readAsArrayBuffer(file);\n",
              "    });\n",
              "    // Wait for the data to be ready.\n",
              "    let fileData = yield {\n",
              "      promise: fileDataPromise,\n",
              "      response: {\n",
              "        action: 'continue',\n",
              "      }\n",
              "    };\n",
              "\n",
              "    // Use a chunked sending to avoid message size limits. See b/62115660.\n",
              "    let position = 0;\n",
              "    do {\n",
              "      const length = Math.min(fileData.byteLength - position, MAX_PAYLOAD_SIZE);\n",
              "      const chunk = new Uint8Array(fileData, position, length);\n",
              "      position += length;\n",
              "\n",
              "      const base64 = btoa(String.fromCharCode.apply(null, chunk));\n",
              "      yield {\n",
              "        response: {\n",
              "          action: 'append',\n",
              "          file: file.name,\n",
              "          data: base64,\n",
              "        },\n",
              "      };\n",
              "\n",
              "      let percentDone = fileData.byteLength === 0 ?\n",
              "          100 :\n",
              "          Math.round((position / fileData.byteLength) * 100);\n",
              "      percent.textContent = `${percentDone}% done`;\n",
              "\n",
              "    } while (position < fileData.byteLength);\n",
              "  }\n",
              "\n",
              "  // All done.\n",
              "  yield {\n",
              "    response: {\n",
              "      action: 'complete',\n",
              "    }\n",
              "  };\n",
              "}\n",
              "\n",
              "scope.google = scope.google || {};\n",
              "scope.google.colab = scope.google.colab || {};\n",
              "scope.google.colab._files = {\n",
              "  _uploadFiles,\n",
              "  _uploadFilesContinue,\n",
              "};\n",
              "})(self);\n",
              "</script> "
            ]
          },
          "metadata": {}
        },
        {
          "output_type": "stream",
          "name": "stdout",
          "text": [
            "Saving ku-quad.png to ku-quad.png\n"
          ]
        }
      ]
    },
    {
      "cell_type": "markdown",
      "source": [
        "Update the `image_name` variable to your uploaded file name."
      ],
      "metadata": {
        "id": "M2SQhuRcFLbs"
      }
    },
    {
      "cell_type": "code",
      "source": [
        "import matplotlib.image as mpimg\n",
        "\n",
        "image_name = 'ku-quad.png'  # Enter the name of the uploaded image\n",
        "\n",
        "img = mpimg.imread(image_name)\n",
        "imgplot = plt.imshow(img)\n",
        "plt.show()"
      ],
      "metadata": {
        "id": "0RAxQ2g7EJR0",
        "colab": {
          "base_uri": "https://localhost:8080/",
          "height": 397
        },
        "outputId": "9d2a8501-5f73-4ccc-a2a6-1cfa3c2dd0d3"
      },
      "execution_count": null,
      "outputs": [
        {
          "output_type": "display_data",
          "data": {
            "text/plain": [
              "<Figure size 640x480 with 1 Axes>"
            ],
            "image/png": "[encoded data removed]"
          },
          "metadata": {}
        }
      ]
    },
    {
      "cell_type": "markdown",
      "source": [
        "To know more about the `matplotlib` library, visit: https://matplotlib.org/"
      ],
      "metadata": {
        "id": "BwsmqzD-FU8Z"
      }
    },
    {
      "cell_type": "markdown",
      "source": [
        "# 4. TensorFlow Basics\n",
        "\n",
        "#### Copyright 2017 Google LLC.\n",
        "\n",
        "\n",
        "\n",
        "\n",
        "\n",
        "\n"
      ],
      "metadata": {
        "id": "LPEi4tg5_jf_"
      }
    },
    {
      "cell_type": "code",
      "source": [
        "# Licensed under the Apache License, Version 2.0 (the \"License\");\n",
        "# you may not use this file except in compliance with the License.\n",
        "# You may obtain a copy of the License at\n",
        "#\n",
        "# https://www.apache.org/licenses/LICENSE-2.0\n",
        "#\n",
        "# Unless required by applicable law or agreed to in writing, software\n",
        "# distributed under the License is distributed on an \"AS IS\" BASIS,\n",
        "# WITHOUT WARRANTIES OR CONDITIONS OF ANY KIND, either express or implied.\n",
        "# See the License for the specific language governing permissions and\n",
        "# limitations under the License."
      ],
      "metadata": {
        "id": "dAoQ6MtoGIpP"
      },
      "execution_count": null,
      "outputs": []
    },
    {
      "cell_type": "markdown",
      "source": [
        "### **TensorFlow Programming Concepts**\n",
        "\n",
        "**Learning Objectives:**\n",
        "  * Learn the basics of the TensorFlow programming model, focusing on the following concepts:\n",
        "    * tensors\n",
        "    * operations\n",
        "    * graphs\n",
        "    * sessions\n"
      ],
      "metadata": {
        "id": "UpjZvWD_GMKx"
      }
    },
    {
      "cell_type": "markdown",
      "source": [
        "**Overview of Concepts**\n",
        "\n",
        "TensorFlow gets its name from **tensors**, which are arrays of arbitrary dimensionality. Using TensorFlow, you can manipulate tensors with a very high number of dimensions. That said, most of the time you will work with one or more of the following low-dimensional tensors:\n",
        "\n",
        "  * A **scalar** is a 0-d array (a 0th-order tensor).  For example, `\"Howdy\"` or `5`\n",
        "  * A **vector** is a 1-d array (a 1st-order tensor).  For example, `[2, 3, 5, 7, 11]` or `[5]`\n",
        "  * A **matrix** is a 2-d array (a 2nd-order tensor).  For example, `[[3.1, 8.2, 5.9][4.3, -2.7, 6.5]]`\n",
        "\n",
        "TensorFlow **operations** create, destroy, and manipulate tensors.  Most of the lines of code in a typical TensorFlow program are operations.\n",
        "\n",
        "A TensorFlow **graph** (also known as a **computational graph** or a **dataflow graph**) is, yes, a graph data structure.  A graph's nodes are operations (in TensorFlow, every operation is associated with a graph).  Many TensorFlow programs consist of a single graph, but TensorFlow programs may optionally create multiple graphs. A graph's nodes are operations; a graph's edges are tensors. Tensors flow through the graph, manipulated at each node by an operation. The output tensor of one operation often becomes the input tensor to a subsequent operation. TensorFlow implements a **lazy execution model,** meaning that nodes are only computed when needed, based on the needs of associated nodes.\n",
        "\n",
        "Tensors can be stored in the graph as **constants** or **variables**. As you might guess, constants hold tensors whose values can't change, while variables hold tensors whose values can change. However, what you may not have guessed is that constants and variables are just more operations in the graph. A constant is an operation that always returns the same tensor value. A variable is an operation that will return whichever tensor has been assigned to it.\n",
        "\n"
      ],
      "metadata": {
        "id": "_AXvrwgSGiXa"
      }
    },
    {
      "cell_type": "markdown",
      "source": [
        "**Summary**\n",
        "\n",
        "TensorFlow programming is essentially a two-step process:\n",
        "\n",
        "  1. Assemble constants, variables, and operations into a graph.\n",
        "  2. Evaluate those constants, variables and operations within a session."
      ],
      "metadata": {
        "id": "phFQw49fG665"
      }
    },
    {
      "cell_type": "markdown",
      "source": [
        "# 4. Machine Learning with TensorFlow\n",
        "\n",
        "\n",
        "With Colab you can for example import an image dataset, train an image classifier on it, and evaluate the model, all in just a few lines of code.\n",
        "\n",
        "***Note:*** This section will be taught during the course (ESE360). Prior knowledge of this section is not required."
      ],
      "metadata": {
        "id": "fj1tZ9llIC02"
      }
    },
    {
      "cell_type": "markdown",
      "source": [
        "##### Copyright 2019 The TensorFlow Authors."
      ],
      "metadata": {
        "id": "BpcxaweyKn3a"
      }
    },
    {
      "cell_type": "code",
      "source": [
        "#@title Licensed under the Apache License, Version 2.0 (the \"License\");\n",
        "# you may not use this file except in compliance with the License.\n",
        "# You may obtain a copy of the License at\n",
        "#\n",
        "# https://www.apache.org/licenses/LICENSE-2.0\n",
        "#\n",
        "# Unless required by applicable law or agreed to in writing, software\n",
        "# distributed under the License is distributed on an \"AS IS\" BASIS,\n",
        "# WITHOUT WARRANTIES OR CONDITIONS OF ANY KIND, either express or implied.\n",
        "# See the License for the specific language governing permissions and\n",
        "# limitations under the License."
      ],
      "metadata": {
        "id": "IXYB1LhOKroL"
      },
      "execution_count": null,
      "outputs": []
    },
    {
      "cell_type": "markdown",
      "source": [
        "### **TensorFlow 2 quickstart for beginners**\n",
        "\n",
        "<table class=\"tfo-notebook-buttons\" align=\"left\">\n",
        "  <td>\n",
        "    <a target=\"_blank\" href=\"https://www.tensorflow.org/tutorials/quickstart/beginner\"><img src=\"https://www.tensorflow.org/images/tf_logo_32px.png\" />View on TensorFlow.org</a>\n",
        "  </td>\n",
        "  <td>\n",
        "    <a target=\"_blank\" href=\"https://colab.research.google.com/github/tensorflow/docs/blob/master/site/en/tutorials/quickstart/beginner.ipynb\"><img src=\"https://www.tensorflow.org/images/colab_logo_32px.png\" />Run in Google Colab</a>\n",
        "  </td>\n",
        "  <td>\n",
        "    <a target=\"_blank\" href=\"https://github.com/tensorflow/docs/blob/master/site/en/tutorials/quickstart/beginner.ipynb\"><img src=\"https://www.tensorflow.org/images/GitHub-Mark-32px.png\" />View source on GitHub</a>\n",
        "  </td>\n",
        "  <td>\n",
        "    <a href=\"https://storage.googleapis.com/tensorflow_docs/docs/site/en/tutorials/quickstart/beginner.ipynb\"><img src=\"https://www.tensorflow.org/images/download_logo_32px.png\" />Download notebook</a>\n",
        "  </td>\n",
        "</table>"
      ],
      "metadata": {
        "id": "5pwoEytgK8jH"
      }
    },
    {
      "cell_type": "markdown",
      "source": [
        "This short introduction uses [Keras](https://www.tensorflow.org/guide/keras/overview) to:\n",
        "\n",
        "1. Load a prebuilt dataset.\n",
        "1. Build a neural network machine learning model that classifies images.\n",
        "2. Train this neural network.\n",
        "3. Evaluate the accuracy of the model."
      ],
      "metadata": {
        "id": "3a07BUtuLI8W"
      }
    },
    {
      "cell_type": "markdown",
      "source": [
        "### Set up TensorFlow\n",
        "\n",
        "Import TensorFlow into your program to get started:"
      ],
      "metadata": {
        "id": "4w-GmAvjLn1I"
      }
    },
    {
      "cell_type": "code",
      "source": [],
      "metadata": {
        "id": "e9Uuz_15bKuK"
      },
      "execution_count": null,
      "outputs": []
    },
    {
      "cell_type": "code",
      "source": [],
      "metadata": {
        "id": "LyZkRNN9bLB8"
      },
      "execution_count": null,
      "outputs": []
    },
    {
      "cell_type": "code",
      "source": [
        "import tensorflow as tf\n",
        "print(\"TensorFlow version:\", tf.__version__)"
      ],
      "metadata": {
        "id": "cqjojmyjLsnf",
        "colab": {
          "base_uri": "https://localhost:8080/"
        },
        "outputId": "f242af54-ac16-4dfb-cbdf-592f6ecf3beb"
      },
      "execution_count": null,
      "outputs": [
        {
          "output_type": "stream",
          "name": "stdout",
          "text": [
            "TensorFlow version: 2.12.0\n"
          ]
        }
      ]
    },
    {
      "cell_type": "markdown",
      "source": [
        "### Load a dataset\n",
        "\n",
        "Load and prepare the [MNIST dataset](http://yann.lecun.com/exdb/mnist/). Convert the sample data from integers to floating-point numbers:"
      ],
      "metadata": {
        "id": "nZs4sey7LuP_"
      }
    },
    {
      "cell_type": "code",
      "source": [
        "mnist = tf.keras.datasets.mnist\n",
        "\n",
        "(x_train, y_train), (x_test, y_test) = mnist.load_data()\n",
        "x_train, x_test = x_train / 255.0, x_test / 255.0"
      ],
      "metadata": {
        "id": "tDRJ6GAjL0Eo",
        "colab": {
          "base_uri": "https://localhost:8080/"
        },
        "outputId": "4e39eae6-b8fb-49c9-faf0-7c0c281794b9"
      },
      "execution_count": null,
      "outputs": [
        {
          "output_type": "stream",
          "name": "stdout",
          "text": [
            "Downloading data from https://storage.googleapis.com/tensorflow/tf-keras-datasets/mnist.npz\n",
            "11490434/11490434 [==============================] - 1s 0us/step\n"
          ]
        }
      ]
    },
    {
      "cell_type": "markdown",
      "source": [
        "### Build a machine learning model\n",
        "\n",
        "Build a `tf.keras.Sequential` model by stacking layers."
      ],
      "metadata": {
        "id": "Z4o_e1CKL6AB"
      }
    },
    {
      "cell_type": "code",
      "source": [
        "model = tf.keras.models.Sequential([\n",
        "  tf.keras.layers.Flatten(input_shape=(28, 28)),\n",
        "  tf.keras.layers.Dense(128, activation='relu'),\n",
        "  tf.keras.layers.Dropout(0.2),\n",
        "  tf.keras.layers.Dense(10)\n",
        "])"
      ],
      "metadata": {
        "id": "9pwsxnuRL7Mu"
      },
      "execution_count": null,
      "outputs": []
    },
    {
      "cell_type": "markdown",
      "source": [
        "For each example, the model returns a vector of [logits](https://developers.google.com/machine-learning/glossary#logits) or [log-odds](https://developers.google.com/machine-learning/glossary#log-odds) scores, one for each class."
      ],
      "metadata": {
        "id": "kvoHxu2XMIVM"
      }
    },
    {
      "cell_type": "code",
      "source": [
        "predictions = model(x_train[:1]).numpy()\n",
        "print(predictions)"
      ],
      "metadata": {
        "id": "SOq8bouIMLBh",
        "colab": {
          "base_uri": "https://localhost:8080/"
        },
        "outputId": "d85298f5-9e34-4a33-dbbd-3a4048a28dc1"
      },
      "execution_count": null,
      "outputs": [
        {
          "output_type": "stream",
          "name": "stdout",
          "text": [
            "[[-0.0243921  -0.21710855  0.24777594  0.38895792  0.60231566  0.06939203\n",
            "   0.39079237 -0.14700726 -0.28138247  0.31125617]]\n"
          ]
        }
      ]
    },
    {
      "cell_type": "markdown",
      "source": [
        "The `tf.nn.softmax` function converts these logits to *probabilities* for each class. In this example however, we will define a loss function that directly takes in logits."
      ],
      "metadata": {
        "id": "TjWXxy8GMOia"
      }
    },
    {
      "cell_type": "code",
      "source": [
        "tf.nn.softmax(predictions).numpy()"
      ],
      "metadata": {
        "id": "mwY0-8g0MRuk",
        "colab": {
          "base_uri": "https://localhost:8080/"
        },
        "outputId": "33d69a47-937e-4911-ac77-8bd3f1b0f9ac"
      },
      "execution_count": null,
      "outputs": [
        {
          "output_type": "execute_result",
          "data": {
            "text/plain": [
              "array([[0.08203017, 0.06765158, 0.10768984, 0.12401929, 0.15351449,\n",
              "        0.09009559, 0.12424702, 0.07256423, 0.06344014, 0.11474766]],\n",
              "      dtype=float32)"
            ]
          },
          "metadata": {},
          "execution_count": 21
        }
      ]
    },
    {
      "cell_type": "markdown",
      "source": [
        "***Note:*** We can also directly incorporate `tf.nn.softmax` when we define the model, by adding it as the activation in the final layer of the model!"
      ],
      "metadata": {
        "id": "F8T1q1deOZT8"
      }
    },
    {
      "cell_type": "markdown",
      "source": [
        "Define a loss function for training using `losses.SparseCategoricalCrossentropy`, which takes a vector of logits and a `True` index and returns a scalar loss for each example."
      ],
      "metadata": {
        "id": "8QgVT9lvMXM2"
      }
    },
    {
      "cell_type": "code",
      "source": [
        "loss_fn = tf.keras.losses.SparseCategoricalCrossentropy(from_logits=True)"
      ],
      "metadata": {
        "id": "ag0AqFdLM3Cq"
      },
      "execution_count": null,
      "outputs": []
    },
    {
      "cell_type": "markdown",
      "source": [
        "This loss is equal to the negative log probability of the true class: The loss is zero if the model is sure of the correct class.\n",
        "\n",
        "This untrained model gives probabilities close to random (1/10 for each class), so the initial loss should be close to `-tf.math.log(1/10) ~= 2.3`."
      ],
      "metadata": {
        "id": "amjAB4tyM61Z"
      }
    },
    {
      "cell_type": "code",
      "source": [
        "loss_fn(y_train[:1], predictions).numpy()"
      ],
      "metadata": {
        "id": "m3xz5VECM9w1",
        "colab": {
          "base_uri": "https://localhost:8080/"
        },
        "outputId": "e0d04efc-56b6-4f18-83e2-a9090bf86178"
      },
      "execution_count": null,
      "outputs": [
        {
          "output_type": "execute_result",
          "data": {
            "text/plain": [
              "2.406884"
            ]
          },
          "metadata": {},
          "execution_count": 23
        }
      ]
    },
    {
      "cell_type": "markdown",
      "source": [
        "Before you start training, configure and compile the model using Keras `Model.compile`. Set the [`optimizer`](https://www.tensorflow.org/api_docs/python/tf/keras/optimizers) class to `adam`, set the `loss` to the `loss_fn` function you defined earlier, and specify a metric to be evaluated for the model by setting the `metrics` parameter to `accuracy`."
      ],
      "metadata": {
        "id": "5feBdGw5NBAN"
      }
    },
    {
      "cell_type": "code",
      "source": [
        "model.compile(optimizer='adam',\n",
        "              loss=loss_fn,\n",
        "              metrics=['accuracy'])"
      ],
      "metadata": {
        "id": "DPvsTC6LNBpX"
      },
      "execution_count": null,
      "outputs": []
    },
    {
      "cell_type": "markdown",
      "source": [
        "### Train and evaluate your model\n",
        "\n",
        "\n",
        "Use the `Model.fit` method to adjust your model parameters and minimize the loss:"
      ],
      "metadata": {
        "id": "oye7edvDNIE8"
      }
    },
    {
      "cell_type": "code",
      "source": [
        "model.fit(x_train, y_train, epochs=5)"
      ],
      "metadata": {
        "id": "J6XaIxbyNL8X",
        "colab": {
          "base_uri": "https://localhost:8080/"
        },
        "outputId": "975308d1-8a80-41a6-f253-ed4ca5cadbbd"
      },
      "execution_count": null,
      "outputs": [
        {
          "output_type": "stream",
          "name": "stdout",
          "text": [
            "Epoch 1/5\n",
            "1875/1875 [==============================] - 7s 4ms/step - loss: 0.2957 - accuracy: 0.9137\n",
            "Epoch 2/5\n",
            "1875/1875 [==============================] - 8s 4ms/step - loss: 0.1410 - accuracy: 0.9584\n",
            "Epoch 3/5\n",
            "1875/1875 [==============================] - 7s 4ms/step - loss: 0.1058 - accuracy: 0.9684\n",
            "Epoch 4/5\n",
            "1875/1875 [==============================] - 8s 4ms/step - loss: 0.0869 - accuracy: 0.9730\n",
            "Epoch 5/5\n",
            "1875/1875 [==============================] - 9s 5ms/step - loss: 0.0743 - accuracy: 0.9761\n"
          ]
        },
        {
          "output_type": "execute_result",
          "data": {
            "text/plain": [
              "<keras.callbacks.History at 0x79c7fd9cbc10>"
            ]
          },
          "metadata": {},
          "execution_count": 25
        }
      ]
    },
    {
      "cell_type": "markdown",
      "source": [
        "The `Model.evaluate` method checks the models performance, usually on a \"[Validation-set](https://developers.google.com/machine-learning/glossary#validation-set)\" or \"[Test-set](https://developers.google.com/machine-learning/glossary#test-set)\"."
      ],
      "metadata": {
        "id": "bAccerT1NXqP"
      }
    },
    {
      "cell_type": "code",
      "source": [
        "model.evaluate(x_test,  y_test, verbose=2)"
      ],
      "metadata": {
        "id": "2e7Dw8mCNaD1",
        "colab": {
          "base_uri": "https://localhost:8080/"
        },
        "outputId": "98d4e748-6b7b-44bc-fac9-2958acd15f02"
      },
      "execution_count": null,
      "outputs": [
        {
          "output_type": "stream",
          "name": "stdout",
          "text": [
            "313/313 - 1s - loss: 0.0742 - accuracy: 0.9784 - 603ms/epoch - 2ms/step\n"
          ]
        },
        {
          "output_type": "execute_result",
          "data": {
            "text/plain": [
              "[0.07419147342443466, 0.9783999919891357]"
            ]
          },
          "metadata": {},
          "execution_count": 35
        }
      ]
    },
    {
      "cell_type": "markdown",
      "source": [
        "The image classifier is now trained to ~98% accuracy on this dataset. To learn more, read the [TensorFlow tutorials](https://www.tensorflow.org/tutorials/)."
      ],
      "metadata": {
        "id": "YYJ9_u6cNeXU"
      }
    },
    {
      "cell_type": "markdown",
      "source": [
        "If you want your model to return a probability, you can wrap the trained model, and attach the softmax to it:"
      ],
      "metadata": {
        "id": "eXw3lDqKNhd6"
      }
    },
    {
      "cell_type": "code",
      "source": [
        "probability_model = tf.keras.Sequential([\n",
        "  model,\n",
        "  tf.keras.layers.Softmax()\n",
        "])"
      ],
      "metadata": {
        "id": "YZn6_vxHNiYK"
      },
      "execution_count": null,
      "outputs": []
    },
    {
      "cell_type": "code",
      "source": [
        "probability_model(x_test[:5])"
      ],
      "metadata": {
        "id": "dgVqwdZsNl0m",
        "colab": {
          "base_uri": "https://localhost:8080/"
        },
        "outputId": "85049df2-eabb-4802-dbdc-3e08ffa1268e"
      },
      "execution_count": null,
      "outputs": [
        {
          "output_type": "execute_result",
          "data": {
            "text/plain": [
              "<tf.Tensor: shape=(5, 10), dtype=float32, numpy=\n",
              "array([[7.8643222e-07, 8.0787800e-08, 2.2254353e-06, 1.4444956e-03,\n",
              "        2.1137145e-09, 3.7316056e-07, 1.9228202e-12, 9.9852872e-01,\n",
              "        1.9332999e-06, 2.1448090e-05],\n",
              "       [1.7767964e-07, 1.8486979e-04, 9.9980992e-01, 3.6267406e-06,\n",
              "        6.9216475e-17, 1.1298966e-06, 2.8001634e-10, 2.6561240e-12,\n",
              "        3.0544399e-07, 4.8769183e-11],\n",
              "       [8.7690339e-08, 9.9876511e-01, 2.9262845e-04, 4.6146720e-06,\n",
              "        9.0407093e-06, 1.0739465e-05, 5.9312388e-05, 4.7643736e-04,\n",
              "        3.8178140e-04, 2.6533704e-07],\n",
              "       [9.9983799e-01, 6.0598362e-09, 1.6715581e-05, 7.0796723e-08,\n",
              "        1.1193963e-07, 1.5306281e-06, 3.9318988e-06, 1.3752597e-04,\n",
              "        4.9331188e-09, 2.0971368e-06],\n",
              "       [4.6841028e-06, 4.5518536e-08, 1.1244770e-05, 1.1615716e-06,\n",
              "        9.8867911e-01, 1.1410216e-06, 7.6877150e-06, 1.3459608e-04,\n",
              "        3.5933040e-06, 1.1156619e-02]], dtype=float32)>"
            ]
          },
          "metadata": {},
          "execution_count": 37
        }
      ]
    },
    {
      "cell_type": "markdown",
      "source": [
        "\n",
        "\n",
        "---\n",
        "\n"
      ],
      "metadata": {
        "id": "n83V2X0oRLYT"
      }
    },
    {
      "cell_type": "markdown",
      "source": [
        "# Additional Resources\n",
        "\n",
        "### Loading Data\n",
        "\n",
        "- [Image data loading](https://www.tensorflow.org/tutorials/load_data/images)\n",
        "- [CSV data loading](https://www.tensorflow.org/tutorials/load_data/csv).\n",
        "\n",
        "\\\n",
        "\n",
        "<a name=\"using-accelerated-hardware\"></a>\n",
        "### Using Accelerated Hardware\n",
        "- [TensorFlow with GPUs](/notebooks/gpu.ipynb)\n",
        "- [TensorFlow with TPUs](/notebooks/tpu.ipynb)\n",
        "\n",
        "\\\n",
        "\n",
        "\n",
        "<a name=\"machine-learning-examples\"></a>\n",
        "\n",
        "### Machine Learning Examples\n",
        "\n",
        "To see end-to-end examples of the interactive machine-learning analyses that Colaboratory makes possible, take a look at these tutorials using models from <a href=\"https://tfhub.dev\">TensorFlow Hub</a>.\n",
        "\n",
        "A few featured examples:\n",
        "\n",
        "- <a href=\"https://tensorflow.org/hub/tutorials/tf2_image_retraining\">Retraining an Image Classifier</a>: Build a Keras model on top of a pre-trained image classifier to distinguish flowers.\n",
        "- <a href=\"https://tensorflow.org/hub/tutorials/tf2_text_classification\">Text Classification</a>: Classify IMDB film reviews as either <em>positive</em> or <em>negative</em>.\n",
        "- <a href=\"https://tensorflow.org/hub/tutorials/tf2_arbitrary_image_stylization\">Style Transfer</a>: Use deep learning to transfer style between images.\n",
        "- <a href=\"https://tensorflow.org/hub/tutorials/retrieval_with_tf_hub_universal_encoder_qa\">Multilingual Universal Sentence Encoder Q&amp;A</a>: Use a machine-learning model to answer questions from the SQuAD dataset.\n",
        "- <a href=\"https://tensorflow.org/hub/tutorials/tweening_conv3d\">Video Interpolation</a>: Predict what happened in a video between the first and the last frame.\n",
        "\n"
      ],
      "metadata": {
        "id": "phsyeqHIRMJE"
      }
    },
    {
      "cell_type": "markdown",
      "source": [
        "# Acknolwedgement\n",
        "\n",
        "Prof. Rahul Mangharam @ UPenn"
      ],
      "metadata": {
        "id": "C70IztRXliAk"
      }
    }
  ]
}